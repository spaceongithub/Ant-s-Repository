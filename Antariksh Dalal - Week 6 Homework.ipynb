{
 "cells": [
  {
   "cell_type": "markdown",
   "id": "aac5bcfb-020e-44b4-a0f1-7a8ca177fa1b",
   "metadata": {},
   "source": [
    "# HW 6\n",
    "\n",
    "1. Translating Sentences:\n",
    "10 pts\n",
    "Write a function that translates sentences. The function takes two arguements, the sentence to be translated and tthe targeted language and returns the translated sentence."
   ]
  },
  {
   "cell_type": "code",
   "execution_count": 1,
   "id": "f089667a-5110-4b19-9c09-71c2fb8f8f12",
   "metadata": {},
   "outputs": [
    {
     "name": "stdout",
     "output_type": "stream",
     "text": [
      "Requirement already satisfied: googletrans==4.0.0-rc1 in c:\\users\\hp\\anaconda\\lib\\site-packages (4.0.0rc1)\n",
      "Requirement already satisfied: httpx==0.13.3 in c:\\users\\hp\\anaconda\\lib\\site-packages (from googletrans==4.0.0-rc1) (0.13.3)\n",
      "Requirement already satisfied: certifi in c:\\users\\hp\\anaconda\\lib\\site-packages (from httpx==0.13.3->googletrans==4.0.0-rc1) (2024.6.2)\n",
      "Requirement already satisfied: hstspreload in c:\\users\\hp\\anaconda\\lib\\site-packages (from httpx==0.13.3->googletrans==4.0.0-rc1) (2024.9.1)\n",
      "Requirement already satisfied: sniffio in c:\\users\\hp\\anaconda\\lib\\site-packages (from httpx==0.13.3->googletrans==4.0.0-rc1) (1.3.0)\n",
      "Requirement already satisfied: chardet==3.* in c:\\users\\hp\\anaconda\\lib\\site-packages (from httpx==0.13.3->googletrans==4.0.0-rc1) (3.0.4)\n",
      "Requirement already satisfied: idna==2.* in c:\\users\\hp\\anaconda\\lib\\site-packages (from httpx==0.13.3->googletrans==4.0.0-rc1) (2.10)\n",
      "Requirement already satisfied: rfc3986<2,>=1.3 in c:\\users\\hp\\anaconda\\lib\\site-packages (from httpx==0.13.3->googletrans==4.0.0-rc1) (1.5.0)\n",
      "Requirement already satisfied: httpcore==0.9.* in c:\\users\\hp\\anaconda\\lib\\site-packages (from httpx==0.13.3->googletrans==4.0.0-rc1) (0.9.1)\n",
      "Requirement already satisfied: h11<0.10,>=0.8 in c:\\users\\hp\\anaconda\\lib\\site-packages (from httpcore==0.9.*->httpx==0.13.3->googletrans==4.0.0-rc1) (0.9.0)\n",
      "Requirement already satisfied: h2==3.* in c:\\users\\hp\\anaconda\\lib\\site-packages (from httpcore==0.9.*->httpx==0.13.3->googletrans==4.0.0-rc1) (3.2.0)\n",
      "Requirement already satisfied: hyperframe<6,>=5.2.0 in c:\\users\\hp\\anaconda\\lib\\site-packages (from h2==3.*->httpcore==0.9.*->httpx==0.13.3->googletrans==4.0.0-rc1) (5.2.0)\n",
      "Requirement already satisfied: hpack<4,>=3.0 in c:\\users\\hp\\anaconda\\lib\\site-packages (from h2==3.*->httpcore==0.9.*->httpx==0.13.3->googletrans==4.0.0-rc1) (3.0.0)\n"
     ]
    }
   ],
   "source": [
    "# Your code here:\n",
    "\n",
    "!pip install googletrans==4.0.0-rc1\n",
    "from googletrans import Translator\n",
    "\n",
    "def google_trans(sentence, target_lang):\n",
    "    \"\"\"This function translates a given sentence to the required target language. It requires two inputs: sentence (to be translated) and target_lang (target language)\"\"\"\n",
    "    translator = Translator()\n",
    "    translated = translator.translate(sentence, dest=target_lang)\n",
    "    print(translated.text)"
   ]
  },
  {
   "cell_type": "markdown",
   "id": "acb9b1ca-0b7a-4367-b0d4-0eec50b068d8",
   "metadata": {},
   "source": [
    "Take the following sentence and translate it from English to Spanish.\n",
    "\"Make a career of humanity. Commit yourself to the noble struggle for equal rights. You will make a better person of yourself, a greater nation of your country, and a finer world to live in.\""
   ]
  },
  {
   "cell_type": "code",
   "execution_count": 2,
   "id": "cf4f9e67-d331-4241-8f66-8ca7980d9926",
   "metadata": {},
   "outputs": [
    {
     "name": "stdout",
     "output_type": "stream",
     "text": [
      "Hacer una carrera de la humanidad.Comprométate con la noble lucha por la igualdad de derechos.Harás una mejor persona de ti mismo, una nación más grande de tu país y un mundo más fino para vivir.\n"
     ]
    }
   ],
   "source": [
    "sentence = \"Make a career of humanity. Commit yourself to the noble struggle for equal rights. You will make a better person of yourself, a greater nation of your country, and a finer world to live in.\"\n",
    "target_lang = \"es\"\n",
    "\n",
    "google_trans(sentence, target_lang)"
   ]
  },
  {
   "cell_type": "markdown",
   "id": "daf0373e-686c-4372-a49c-a583620161c3",
   "metadata": {},
   "source": [
    "2. Now translate it from Spanish to Chinese\n",
    "2.5pts"
   ]
  },
  {
   "cell_type": "code",
   "execution_count": 3,
   "id": "ed3f5d0d-9129-4321-b1a2-43b14ccfd211",
   "metadata": {},
   "outputs": [
    {
     "name": "stdout",
     "output_type": "stream",
     "text": [
      "通过为平等权利而努力的人类职业。\n"
     ]
    }
   ],
   "source": [
    "#Your code here:\n",
    "sentence = \"Hacer una carrera de la humanidad.Comprométate con la noble lucha por la igualdad de derechos.Harás una mejor persona de ti mismo, una nación más grande de tu país y un mundo más fino para vivir.\"\n",
    "target_lang = \"zh-cn\"\n",
    "\n",
    "google_trans(sentence, target_lang)"
   ]
  },
  {
   "cell_type": "markdown",
   "id": "5a0f2361-5bd0-4bcb-9dc4-7ee6630cbabd",
   "metadata": {},
   "source": [
    "3. Now translate it from Chinese back to English.\n",
    "2.5pts"
   ]
  },
  {
   "cell_type": "code",
   "execution_count": 4,
   "id": "156fe134-2df9-4210-8444-6822b00aed6e",
   "metadata": {},
   "outputs": [
    {
     "name": "stdout",
     "output_type": "stream",
     "text": [
      "Human occupations that work hard for equal rights.\n"
     ]
    }
   ],
   "source": [
    "#Your code here:\n",
    "sentence = \"通过为平等权利而努力的人类职业。\"\n",
    "target_lang = \"en\"\n",
    "\n",
    "google_trans(sentence, target_lang)"
   ]
  },
  {
   "cell_type": "markdown",
   "id": "5f22fb28-eb8c-4394-b291-22f695d04469",
   "metadata": {},
   "source": [
    "4. Now do the same thing with ChatGPT.\n",
    "\n",
    "2.5pts\n",
    "Eng to Sp: Haz una carrera de la humanidad. Comprométete con la noble lucha por los derechos iguales. Te convertirás en una mejor persona, harás de tu país una nación más grande y de este mundo un lugar mejor para vivir.\n",
    "\n",
    "Sp to Chinese: 以人道主义为事业。致力于为平等权利而进行的高尚斗争。你将成为一个更好的人，使你的国家成为一个更伟大的民族，并让这个世界成为一个更美好的居住地\n",
    "\n",
    "Chinese to Eng: Make humanitarianism your cause. Dedicate yourself to the noble struggle for equal rights. You will become a better person, make your country a greater nation, and turn this world into a better place to live."
   ]
  },
  {
   "cell_type": "markdown",
   "id": "95f22fc5-75b5-4e6e-8c2e-00291f468035",
   "metadata": {},
   "source": [
    "5. Describe the difference in quality and features of output:\n",
    "2.5pts"
   ]
  },
  {
   "cell_type": "markdown",
   "id": "90f45014-5aa0-4fab-b48f-a468d1261f06",
   "metadata": {},
   "source": [
    "Your answer here:\n",
    "\n",
    "The translation thorugh the function are too literal because of which there was a loss of context and meaning while going from spanish to chinese and ultimately from chinese to english. The final output does not make much sense and lost the key concept behind the quote.\n",
    "In contrast the ChatGPT output kept the essence of the initial quote even though the words might differ. This shows that ChatGPT did not jsut do a literal translation of the words thorugh the various iterations but also focused on the meaning and tried to retain through the various translations."
   ]
  },
  {
   "cell_type": "markdown",
   "id": "2dcf5ad4-25ec-4eef-bc6a-bd480e64b65a",
   "metadata": {},
   "source": [
    " ## 7.  The Trump Card\n",
    "Here is a link to a speech made by former President Trump on January 6: https://www.npr.org/2021/02/10/966396848/read-trumps-jan-6-speech-a-key-part-of-impeachment-trial. Not all of the text is his speech. Some of the text is the analysis. Please extract Donald Trump's speech only, remove stopwords and perform a word frequency distribution and visualize it.\n",
    "20pts"
   ]
  },
  {
   "cell_type": "code",
   "execution_count": 11,
   "id": "4efcbb23-4d40-4e01-9d89-257d8024c15e",
   "metadata": {},
   "outputs": [
    {
     "name": "stdout",
     "output_type": "stream",
     "text": [
      "[('I', 180), ('people', 80), ('going', 73), ('We', 70), ('want', 67), ('dont', 63), ('They', 63), ('But', 58), ('know', 58), ('You', 55), ('country', 43), ('ballots', 43), ('votes', 41), ('election', 40), ('back', 40), ('go', 38), ('said', 37), ('state', 35), ('one', 34), ('like', 32)]\n"
     ]
    },
    {
     "data": {
      "image/png": "[encoded data removed]",
      "text/plain": [
       "<Figure size 640x480 with 1 Axes>"
      ]
     },
     "metadata": {},
     "output_type": "display_data"
    },
    {
     "data": {
      "text/plain": [
       "<Axes: title={'center': \"Word Frequency Distribution of Trump's Speech\"}, xlabel='Samples', ylabel='Counts'>"
      ]
     },
     "execution_count": 11,
     "metadata": {},
     "output_type": "execute_result"
    }
   ],
   "source": [
    "# Your code here:\n",
    "\n",
    "import requests\n",
    "from bs4 import BeautifulSoup\n",
    "import re\n",
    "import nltk\n",
    "from nltk import FreqDist\n",
    "from nltk.tokenize import word_tokenize\n",
    "\n",
    "# Fetch the content from the URL\n",
    "url = \"https://www.npr.org/2021/02/10/966396848/read-trumps-jan-6-speech-a-key-part-of-impeachment-trial\"\n",
    "response = requests.get(url)\n",
    "soup = BeautifulSoup(response.content, 'html.parser')\n",
    "\n",
    "# Extract Trump's speech\n",
    "speech_text = soup.find('div', class_='storytext storylocation linkLocation').get_text()\n",
    "speech_start = speech_text.find(\"Well, thank you very much. This is incredible\")\n",
    "speech_end = speech_text.find(\"This is incredible. Thank you very much. Thank you.\")\n",
    "speech = speech_text[speech_start:speech_end].strip()\n",
    "\n",
    "#print(speech)\n",
    "\n",
    "# Remove punctuation and tokenize the speech\n",
    "speech = re.sub('[^a-zA-Z0-9 ]', '', speech)\n",
    "tokens = word_tokenize(speech)\n",
    "\n",
    "#print(speech)\n",
    "#print(tokens)\n",
    "\n",
    "# Load NLTK's stopwords\n",
    "stopwords = nltk.corpus.stopwords.words(\"english\")\n",
    "\n",
    "#print(stopwords)\n",
    "\n",
    "# Remove stopwords from the tokens\n",
    "filtered_tokens = []\n",
    "for word in tokens:\n",
    "    if not word in stopwords:\n",
    "        filtered_tokens.append(word)\n",
    "    else:\n",
    "        pass\n",
    "\n",
    "#fdist = FreqDist(filtered_tokens)\n",
    "#y = fdist.most_common(20)\n",
    "#print(y)\n",
    "#print(fdist.plot(20))\n",
    "\n",
    "# Add additional stopwords\n",
    "new_stops = ['And', 'get' , 'got' , 'but']\n",
    "stopwords.extend(new_stops)\n",
    "\n",
    "# Remove additional stopwords from the tokens\n",
    "filtered_tokens2 = []\n",
    "for word in filtered_tokens:\n",
    "    if not word in stopwords:\n",
    "        filtered_tokens2.append(word)\n",
    "    else:\n",
    "        pass\n",
    "\n",
    "# Visualize the word frequency distribution\n",
    "fdist2 = FreqDist(filtered_tokens2)\n",
    "z = fdist2.most_common(20)\n",
    "\n",
    "plt.title(\"Word Frequency Distribution of Trump's Speech\")\n",
    "#plt.xlabel(\"Words\")\n",
    "#plt.ylabel(\"Frequency\")\n",
    "print(z)\n",
    "fdist2.plot(20)\n",
    "\n",
    "\n",
    "#z = fdist2.most_common(20)\n",
    "\n",
    "#plt.title(\"Word Frequency Distribution of Trump's Speech\")\n",
    "\n",
    "#print(z)\n",
    "#fdist2.plot(20)\n",
    "\n",
    "#fdist2.xlabel(\"Words\")\n",
    "#plt.ylabel(\"Frequency\")"
   ]
  },
  {
   "cell_type": "markdown",
   "id": "b78b87a8-223c-4dc0-a838-523871fb3a75",
   "metadata": {},
   "source": [
    "8. Here is a link to a github repo that contains Donald Trump's speeches: https://github.com/ryanmcdermott/trump-speeches/blob/master/speeches.txt\n",
    "   \n",
    "What are the 10 most common things Donald Trump \"loves?\"\n",
    "10pts"
   ]
  },
  {
   "cell_type": "code",
   "execution_count": 14,
   "id": "f78b97a7-618d-4fc2-969d-f72cdb7fd3d4",
   "metadata": {},
   "outputs": [
    {
     "name": "stdout",
     "output_type": "stream",
     "text": [
      "Top 10 most common things Donald Trump loves (bigrams):\n",
      "[(('we', 'love'), 4), (('i', 'love'), 4), (('id', 'love'), 2), (('love', 'to'), 2), (('extraordinary', 'love'), 2), (('love', 'for'), 2), (('love', 'the'), 2), (('love', 'you'), 2), (('love', 'it'), 1), (('love', 'thats'), 1)]\n"
     ]
    }
   ],
   "source": [
    "#Your code and answer here:\n",
    "\n",
    "import nltk\n",
    "from nltk import bigrams\n",
    "from nltk.tokenize import word_tokenize\n",
    "\n",
    "with open(\"trump_speeches.txt\", 'r', encoding='utf-8') as file:\n",
    "    raw_speech = file.read()\n",
    "#print(raw_speech)\n",
    "    raw_speech = re.sub('[^a-zA-Z0-9 ]', '', speech)\n",
    "\n",
    "def find_trump_loves_bigrams(text):\n",
    "    \"\"\"This function finds bigrams with the word love in them\"\"\"\n",
    "    # Tokenize the text into words\n",
    "    words = word_tokenize(text.lower())\n",
    "    \n",
    "    # Generate bigrams from the tokenized words\n",
    "    bigram_list = list(bigrams(words))\n",
    "    \n",
    "    # Filter bigrams that contain the word 'love'\n",
    "    love_bigrams = [pair for pair in bigram_list if 'love' in pair]\n",
    "    \n",
    "    # Count occurrences of each bigram\n",
    "    bigram_counter = Counter(love_bigrams)\n",
    "    \n",
    "    # Return the 10 most common bigrams involving 'love'\n",
    "    return bigram_counter.most_common(10)\n",
    "\n",
    "# Find the top 10 love-related bigrams\n",
    "top_love_bigrams = find_trump_loves_bigrams(raw_speech)\n",
    "\n",
    "# Print the results\n",
    "print(\"Top 10 most common things Donald Trump loves (bigrams):\")\n",
    "print(top_love_bigrams)"
   ]
  },
  {
   "cell_type": "code",
   "execution_count": 60,
   "id": "9094c098-8077-4828-8c9e-97041177a605",
   "metadata": {},
   "outputs": [
    {
     "name": "stdout",
     "output_type": "stream",
     "text": [
      "Top 10 most common things Donald Trump loves (bigrams):\n",
      "[(('i', 'love'), 128), (('we', 'love'), 43), (('love', 'you'), 34), (('love', 'i'), 13), (('love', 'country'), 12), (('love', 'me'), 6), (('love', 'china'), 5), (('would', 'love'), 5), (('love', 'all'), 5), (('love', 'doing'), 4)]\n"
     ]
    }
   ],
   "source": [
    "#Your code and answer here:\n",
    "\n",
    "import nltk\n",
    "from nltk import bigrams\n",
    "from nltk.tokenize import word_tokenize\n",
    "from collections import Counter\n",
    "import re\n",
    "\n",
    "# Define a list of words to ignore in bigrams\n",
    "ignore_words = {\"id\", \"to\", \"for\", \"the\", \"it\", \"thats\", \"and\", \"our\", \"this\", \"their\", \"they\", \"my\", \"people\", \"them\", \"that\"}\n",
    "\n",
    "def find_trump_loves_bigrams(text):\n",
    "    \"\"\"This function finds bigrams with the word love in them, ignoring certain words.\"\"\"\n",
    "    # Tokenize the text into words\n",
    "    words = word_tokenize(text.lower())\n",
    "    \n",
    "    # Filter out the ignore words\n",
    "    filtered_words = [word for word in words if word not in ignore_words]\n",
    "    \n",
    "    # Generate bigrams from the filtered words\n",
    "    bigram_list = list(bigrams(filtered_words))\n",
    "    \n",
    "    # Filter bigrams that contain the word 'love'\n",
    "    love_bigrams = [pair for pair in bigram_list if 'love' in pair]\n",
    "    \n",
    "    # Count occurrences of each bigram\n",
    "    bigram_counter = Counter(love_bigrams)\n",
    "    \n",
    "    # Return the 10 most common bigrams involving 'love'\n",
    "    return bigram_counter.most_common(10)\n",
    "\n",
    "# Load and clean the speeches text file\n",
    "with open(\"trump_speeches.txt\", 'r', encoding='utf-8') as file:\n",
    "    raw_speech = file.read()\n",
    "\n",
    "# Remove non-alphanumeric characters except spaces\n",
    "raw_speech = re.sub('[^a-zA-Z0-9 ]', '', raw_speech)\n",
    "\n",
    "# Find the top 10 love-related bigrams\n",
    "top_love_bigrams = find_trump_loves_bigrams(raw_speech)\n",
    "\n",
    "# Print the results\n",
    "print(\"Top 10 most common things Donald Trump loves (bigrams):\")\n",
    "print(top_love_bigrams)"
   ]
  },
  {
   "cell_type": "code",
   "execution_count": 55,
   "id": "76be15b9-baa7-403e-bcbd-30d0c170728f",
   "metadata": {},
   "outputs": [
    {
     "name": "stdout",
     "output_type": "stream",
     "text": [
      "Most common things following 'I love':\n",
      "the: 1\n",
      "Georgia: 1\n",
      "you: 1\n",
      "Pennsylvania: 1\n",
      "\n",
      "Most common things following 'we love':\n",
      "Trump: 1\n",
      "the: 1\n",
      "you: 1\n",
      "our: 1\n"
     ]
    }
   ],
   "source": [
    "from collections import Counter\n",
    "import re\n",
    "\n",
    "# Load the speeches text file\n",
    "with open(\"trump_speeches.txt\", 'r', encoding='utf-8') as file:\n",
    "    raw_speech = file.read()\n",
    "#print(raw_speech)\n",
    "    text = re.sub('[^a-zA-Z0-9 ]', '', speech)\n",
    "\n",
    "# Find all occurrences of \"I love\" and \"we love\" followed by a word\n",
    "i_love_matches = re.findall(r'\\bI love\\s+(\\w+)', text, re.IGNORECASE)\n",
    "we_love_matches = re.findall(r'\\bwe love\\s+(\\w+)', text, re.IGNORECASE)\n",
    "\n",
    "# Count the frequency of each word following \"I love\" and \"we love\"\n",
    "i_love_counter = Counter(i_love_matches)\n",
    "we_love_counter = Counter(we_love_matches)\n",
    "\n",
    "# Get the 10 most common things Trump says \"I love\"\n",
    "most_common_i_love = i_love_counter.most_common(10)\n",
    "\n",
    "# Get the 10 most common things Trump says \"we love\"\n",
    "most_common_we_love = we_love_counter.most_common(10)\n",
    "\n",
    "# Print the results\n",
    "print(\"Most common things following 'I love':\")\n",
    "for thing, count in most_common_i_love:\n",
    "    print(f\"{thing}: {count}\")\n",
    "\n",
    "print(\"\\nMost common things following 'we love':\")\n",
    "for thing, count in most_common_we_love:\n",
    "    print(f\"{thing}: {count}\")"
   ]
  },
  {
   "cell_type": "markdown",
   "id": "c07782a4-2931-4e23-bb33-b9fab29182ca",
   "metadata": {},
   "source": [
    "9. Which are the top 5 countries Trump mentions in his speeches, besides America or the United States of America?\n",
    "10pts"
   ]
  },
  {
   "cell_type": "code",
   "execution_count": 59,
   "id": "bdb639d1-6f9e-444c-8248-75b74bf569c7",
   "metadata": {},
   "outputs": [
    {
     "name": "stdout",
     "output_type": "stream",
     "text": [
      "Top 5 countries mentioned by Donald Trump (excluding America):\n",
      "[('China', 200), ('Mexico', 155), ('Iran', 89), ('Israel', 82), ('Iraq', 69)]\n"
     ]
    }
   ],
   "source": [
    "#Your code and answer here:\n",
    "\n",
    "# List of countries to search for\n",
    "countries = [\"China\", \"Mexico\", \"Russia\", \"Iran\", \"Iraq\", \"Syria\", \"North Korea\", \"South Korea\", \"Japan\", \"Saudi Arabia\", \"Libya\", \"Cuba\", \"Afghanistan\", \"Germany\", \"France\", \"Canada\", \"Israel\", \"Egypt\"]\n",
    "\n",
    "with open(\"trump_speeches.txt\", 'r', encoding='utf-8') as file:\n",
    "    raw_speech = file.read()\n",
    "#print(raw_speech)\n",
    "    words_speech = word_tokenize(raw_speech)\n",
    "    \n",
    "country_mentions = []\n",
    "for country in words_speech:\n",
    "    if country in countries:\n",
    "        country_mentions.append(country)\n",
    "    else:\n",
    "        pass\n",
    "#print(country_mentions)\n",
    "\n",
    "\n",
    "# Count occurrences of each country\n",
    "country_counter = Counter(country_mentions)\n",
    "#print(country_counter)\n",
    "\n",
    "\n",
    "# Print the results\n",
    "print(f\"Top 5 countries mentioned by Donald Trump (excluding America):\") \n",
    "print(country_counter.most_common(5))"
   ]
  },
  {
   "cell_type": "markdown",
   "id": "025cea9c-b4d6-47a4-8910-826c521d594b",
   "metadata": {},
   "source": [
    "\n",
    " In class we talked about tokenizing sentences into words, or parsing texts by single words(unigrams), or two words(bigrams). But you can also tokenize by sentences. Here is some sample code:\n"
   ]
  },
  {
   "cell_type": "code",
   "execution_count": 25,
   "id": "5b9af68c-a8e1-4d1e-ab49-e791d071bf3a",
   "metadata": {},
   "outputs": [
    {
     "name": "stdout",
     "output_type": "stream",
     "text": [
      "['This is the first sentence.', 'This is the second sentence.']\n"
     ]
    }
   ],
   "source": [
    "import nltk\n",
    "from nltk.tokenize import sent_tokenize\n",
    "\n",
    "text = \"This is the first sentence. This is the second sentence.\"\n",
    "sentences = sent_tokenize(text)\n",
    "\n",
    "print(sentences)"
   ]
  },
  {
   "cell_type": "markdown",
   "id": "7481e654-f253-4573-948b-0cf63d2b22c7",
   "metadata": {},
   "source": [
    "In class we talked about final projects and I suggested one of the interesting uses of this technology is to consider conventional thinking on some subject and use Python to more comprehensively and critically evaluate that thinking. We touched on \"political thinking\" as a good place to apply Python language analyses. In political speeches, certain sentences or phrases are repeated to show a candidates coaching, focus or in marketing terms, \"messaging.\" \n",
    "\n",
    "Here is an analyis from https://www.vox.com/2016/8/18/12423688/donald-trump-speech-style-explained-by-linguists of the \"salesman\" techniques that Trump uses: \"Trump’s speeches can be appealing because he uses a lot of salesmen’s tricks. Lakoff, for his part, has an explanation for why Trump’s style of speaking is so appealing to many. Many of Trump’s most famous catchphrases are actually versions of time-tested speech mechanisms that salesmen use. They’re powerful because they help shape our unconscious. Take, for example, Trump’s frequent use of \"Many people are saying...\" or \"Believe me\" — often right after saying something that is baseless or untrue. This tends to sound more trustworthy to listeners than just outright stating the baseless claim, since Trump implies that he has direct experience with what he’s talking about. At a base level, Lakoff argues, people are more inclined to believe something that seems to have been shared. Or when Trump keeps calling Clinton \"crooked,\" or keeps referring to terrorists as \"radical Muslims,\" he’s strengthening the association through repetition. He also calls his supporters \"folks,\" to show he is one of them (though many politicians employ this trick). Trump doesn’t repeat phrases and adjectives because he is stalling for time, Liberman says; for the most part, he’s providing emphasis and strengthening the association. These are normal techniques, particularly in conversational speech. \"Is he reading cognitive science? No. He has 50 years of experience as a salesman who doesn’t care who he is selling to,\" Lakoff says. On this account, Trump uses similar methods in his QVC-style pitch of steaks and vodka as when he talks about his plan to stop ISIS.\"He has been doing this for a very long time as a salesman — that’s what he is best at,\" Lakoff says.\"  \n",
    "*This is not to say I agree or disagree with this analysis.*  This is just one example of what we touched on in class. "
   ]
  },
  {
   "cell_type": "markdown",
   "id": "a96e1cb4-90b1-4f3e-9948-6ec6935401ea",
   "metadata": {},
   "source": [
    "10. Perform a frequency analysis that provides evidence for or against the assertion made in the Vox article.\n",
    "Consider tokenizing by unigram (one word), bigram(two words), trigram(three words) or more, or whole sentences or multiple approaches that help us understand the most common Trump linguistic characteristcs. Use your evidence and words to describe what you found. This is a fairly open ask. Don't just execute code. Tell me and show me something interesting!\n",
    "20pts"
   ]
  },
  {
   "cell_type": "code",
   "execution_count": 17,
   "id": "68933a0b-53da-465c-99f3-5c4bf1a3212b",
   "metadata": {},
   "outputs": [
    {
     "name": "stdout",
     "output_type": "stream",
     "text": [
      "Most Common Words:\n",
      "going: 2052 times\n",
      "know: 1293 times\n",
      "people: 1264 times\n",
      "dont: 970 times\n",
      "im: 775 times\n",
      "said: 769 times\n",
      "want: 753 times\n",
      "theyre: 713 times\n",
      "great: 669 times\n",
      "get: 630 times\n",
      "\n",
      "Most Common Bigrams:\n",
      "('dont', 'know'): 195 times\n",
      "('im', 'going'): 160 times\n",
      "('dont', 'want'): 153 times\n",
      "('theyre', 'going'): 138 times\n",
      "('youre', 'going'): 128 times\n",
      "('united', 'states'): 108 times\n",
      "('going', 'get'): 96 times\n",
      "('going', 'make'): 92 times\n",
      "('going', 'win'): 89 times\n",
      "('going', 'happen'): 81 times\n",
      "\n",
      "Most Common Trigrams:\n",
      "('make', 'america', 'great'): 48 times\n",
      "('going', 'take', 'care'): 39 times\n",
      "('ive', 'ever', 'seen'): 20 times\n",
      "('make', 'country', 'great'): 18 times\n",
      "('going', 'make', 'america'): 18 times\n",
      "('going', 'build', 'wall'): 18 times\n",
      "('dont', 'even', 'know'): 18 times\n",
      "('going', 'get', 'rid'): 17 times\n",
      "('dont', 'know', 'theyre'): 16 times\n",
      "('going', 'happen', 'going'): 16 times\n",
      "\n",
      "Specific Phrase Counts:\n",
      "many people are saying: 22 times\n",
      "crooked hillary: 15 times\n",
      "radical islamic: 15 times\n",
      "believe me: 10 times\n",
      "fake news: 9 times\n"
     ]
    }
   ],
   "source": [
    "# Your code here:\n",
    "\n",
    "import re\n",
    "from collections import Counter\n",
    "from nltk import ngrams\n",
    "from nltk.tokenize import word_tokenize, sent_tokenize\n",
    "\n",
    "def analyze_speech(text):\n",
    "    \"\"\"This function analyzes a given text, identifying most common words, bigrams, trigrams, and phrases against the common phrases group\"\"\"\n",
    "    \n",
    "    # Remove punctuation and common stop words\n",
    "    text = re.sub('[^a-zA-Z0-9 ]', '', text)\n",
    "    \n",
    "    # Tokenize the text into sentences\n",
    "    sentences = sent_tokenize(text.lower())\n",
    "    \n",
    "    # Tokenize the text into words\n",
    "    raw_words = word_tokenize(text.lower())\n",
    "\n",
    "    # Load NLTK's stopwords\n",
    "    stopwords = nltk.corpus.stopwords.words(\"english\")\n",
    "    \n",
    "    #print(stopwords)\n",
    "    \n",
    "    # Remove stopwords from the tokens\n",
    "    words1 = []\n",
    "    for word in raw_words:\n",
    "        if not word in stopwords:\n",
    "            words1.append(word)\n",
    "        else:\n",
    "            pass\n",
    "    \n",
    "    # Add additional stopwords\n",
    "    new_stops = ['And', 'the' , 'to' , 'a', 'of', 'have', 'that']\n",
    "    stopwords.extend(new_stops)\n",
    "    \n",
    "    # Remove additional stopwords from the tokens\n",
    "    words = []\n",
    "    for word in words1:\n",
    "        if not word in stopwords:\n",
    "            words.append(word)\n",
    "        else:\n",
    "            pass\n",
    "    \n",
    "    # Create n-grams (bigrams and trigrams)\n",
    "    bigrams = list(ngrams(words, 2))\n",
    "    trigrams = list(ngrams(words, 3))\n",
    "    \n",
    "    # Count occurrences of words, bigrams, and trigrams\n",
    "    word_counter = Counter(words)\n",
    "    bigram_counter = Counter(bigrams)\n",
    "    trigram_counter = Counter(trigrams)\n",
    "    \n",
    "    # Find common phrases like \"many people are saying\" or \"believe me\"\n",
    "    common_phrases = [\"many people are saying\", \"crooked hillary\", \"radical islamic\", \"believe me\", \"fake news\"]\n",
    "    \n",
    "    phrase_counts = {phrase: len(phrase) for phrase in common_phrases}\n",
    "    \n",
    "    # Return the most common words, bigrams, trigrams, and specific phrases\n",
    "    return {\n",
    "        'common_words': word_counter.most_common(10),\n",
    "        'common_bigrams': bigram_counter.most_common(10),\n",
    "        'common_trigrams': trigram_counter.most_common(10),\n",
    "        'common_phrases': phrase_counts\n",
    "    }\n",
    "\n",
    "# Read the file content\n",
    "with open('trump_speeches.txt', 'r', encoding='utf-8') as file:\n",
    "    raw_speech = file.read()\n",
    "\n",
    "# Analyze the speech content\n",
    "analysis_results = analyze_speech(content)\n",
    "\n",
    "# Print the results\n",
    "print(\"Most Common Words:\")\n",
    "for word, count in analysis_results['common_words']:\n",
    "    print(f\"{word}: {count} times\")\n",
    "\n",
    "print(\"\\nMost Common Bigrams:\")\n",
    "for bigram, count in analysis_results['common_bigrams']:\n",
    "    print(f\"{bigram}: {count} times\")\n",
    "\n",
    "print(\"\\nMost Common Trigrams:\")\n",
    "for trigram, count in analysis_results['common_trigrams']:\n",
    "    print(f\"{trigram}: {count} times\")\n",
    "\n",
    "print(\"\\nSpecific Phrase Counts:\")\n",
    "for phrase, count in analysis_results['common_phrases'].items():\n",
    "    print(f\"{phrase}: {count} times\")\n",
    "\n",
    "\"\"\"Analysis - The frequency of these phrases supports the Vox article's analysis of Trump's speech style as employing salesmanship techniques. \n",
    "His use of repetition, branding, and appeals to trust are evident in these phrases, which serve to emphasize key messages and shape audience perceptions. \n",
    "These techniques help Trump create memorable soundbites that resonate with his supporters and reinforce his core messaging themes.\"\"\""
   ]
  },
  {
   "cell_type": "markdown",
   "id": "7e0bd617-57e6-4f8f-bf44-3aba3ebb671c",
   "metadata": {},
   "source": [
    "## 6. Mired in Mango Madness ##\n",
    "20pts\n",
    "\n",
    "Congratulations! In your last semester at Yale, you got a job at the World Bank ! \n",
    "\n",
    "Your first assignment is to address the dearth of good data in Mali on Mango quality and production. Your boss put you on a plane to Mali during the harvest season. You are excited, not only because your boss is annoying and wears too much cologne, but international travel is part of the excitement of an international job. You are excited to see the Great Mosque of Djenne, to watch the sunset from the Bandiagara Cliffs, and to dance the night away to  at Le Byblos. Oh yeah, there is the work too. After a particular \"rough\" night you meet with your colleagues at the office.  You thought you'd be able to just get by making eye contact and nodding while they did most of the work. After all, you are new to the role. No such luck. Your colleagues are thrilled that you can solve their problems by creating an automated call center. Their exact words are, \"The Harvard grad ended up quitting, I'm glad we have someone from Yale here to make things right.\"\n",
    "\n",
    "You are given an office and a computer. You may have slightly overstated your Python coding skills to get the job, but too late now. They ask if you mind if they watch you code. You tell them that you prefer to work alone, although ask them to lunch later to soften the push back. After the initial panic and hangover subsides you think back to your days in intermediate python at Yale, the encouraging words of your caring but demanding prof,  and then a light flashes in your mind and you think, \"I got this.\" \n",
    "\n",
    "You've been tasked with the goal of setting up an automated call center to get data on current market prices, production and quality. There are growers who are both collectives who report these factors, and also smaller growers! Unfortunately, some of these are incentivized to underreport production and prices under the assumption that they will receive more foreign aid. Not all of them though! It's estimated that 10-20% of the self-reporting is innacurate. Callers call the center. Words are processed from speech to text. Text is processed, converted back to speech and then communicated to the caller. \n",
    "\n",
    "There are a few challenges you face: \n",
    "1. The speech to text algo was trained on French, but most of the farmers who call in speak Bambara. You must translate from Bambara to French, and then French to English, because your boss doesn't speak French and wants things in English and is completely unreasonable.\n",
    "2. Sometimes the call just ends, sometimes words are sporadic, sometimes the algo. confuses the word \"child\" and the word \"mango\"\n",
    "3. The call in number was once the number for the infant health hotline. People still use the number to try to get immediate emergency care for their infant. Their calls must be redirected or children could die and it would be your fault, not to mention an international incident.\n",
    "4. The call number is often called by fans and musicians who are given the number by directory assistance because there is a music production company called Mango Mali, a fledgling world music group that markets music from Mali to France.\n",
    "5. You must try to identify who is lying about their crop yield quality and prices.\n",
    "\n",
    "\n",
    "**YOUR MISSION**\n",
    "\n",
    "Write code that accepts the number as an input and then collects user input(in Bambara), translates it to French, and then outputs the data to a csv file in English. Please make sure you write code that addresses the challenges above (1-5). \n",
    "Create use cases to demonstrate that your code works and that you have addressed the basic use case, and that you have addressed challenges 1-5."
   ]
  },
  {
   "cell_type": "code",
   "execution_count": 71,
   "id": "beef55f1-a398-4d34-9647-bf77a6735ad0",
   "metadata": {},
   "outputs": [
    {
     "name": "stdout",
     "output_type": "stream",
     "text": [
      "Requirement already satisfied: googletrans==4.0.0-rc1 in c:\\users\\hp\\anaconda\\lib\\site-packages (4.0.0rc1)\n",
      "Requirement already satisfied: httpx==0.13.3 in c:\\users\\hp\\anaconda\\lib\\site-packages (from googletrans==4.0.0-rc1) (0.13.3)\n",
      "Requirement already satisfied: certifi in c:\\users\\hp\\anaconda\\lib\\site-packages (from httpx==0.13.3->googletrans==4.0.0-rc1) (2024.6.2)\n",
      "Requirement already satisfied: hstspreload in c:\\users\\hp\\anaconda\\lib\\site-packages (from httpx==0.13.3->googletrans==4.0.0-rc1) (2024.9.1)\n",
      "Requirement already satisfied: sniffio in c:\\users\\hp\\anaconda\\lib\\site-packages (from httpx==0.13.3->googletrans==4.0.0-rc1) (1.3.0)\n",
      "Requirement already satisfied: chardet==3.* in c:\\users\\hp\\anaconda\\lib\\site-packages (from httpx==0.13.3->googletrans==4.0.0-rc1) (3.0.4)\n",
      "Requirement already satisfied: idna==2.* in c:\\users\\hp\\anaconda\\lib\\site-packages (from httpx==0.13.3->googletrans==4.0.0-rc1) (2.10)\n",
      "Requirement already satisfied: rfc3986<2,>=1.3 in c:\\users\\hp\\anaconda\\lib\\site-packages (from httpx==0.13.3->googletrans==4.0.0-rc1) (1.5.0)\n",
      "Requirement already satisfied: httpcore==0.9.* in c:\\users\\hp\\anaconda\\lib\\site-packages (from httpx==0.13.3->googletrans==4.0.0-rc1) (0.9.1)\n",
      "Requirement already satisfied: h11<0.10,>=0.8 in c:\\users\\hp\\anaconda\\lib\\site-packages (from httpcore==0.9.*->httpx==0.13.3->googletrans==4.0.0-rc1) (0.9.0)\n",
      "Requirement already satisfied: h2==3.* in c:\\users\\hp\\anaconda\\lib\\site-packages (from httpcore==0.9.*->httpx==0.13.3->googletrans==4.0.0-rc1) (3.2.0)\n",
      "Requirement already satisfied: hyperframe<6,>=5.2.0 in c:\\users\\hp\\anaconda\\lib\\site-packages (from h2==3.*->httpcore==0.9.*->httpx==0.13.3->googletrans==4.0.0-rc1) (5.2.0)\n",
      "Requirement already satisfied: hpack<4,>=3.0 in c:\\users\\hp\\anaconda\\lib\\site-packages (from h2==3.*->httpcore==0.9.*->httpx==0.13.3->googletrans==4.0.0-rc1) (3.0.0)\n"
     ]
    }
   ],
   "source": [
    "!pip install googletrans==4.0.0-rc1\n",
    "\n",
    "from googletrans import Translator\n",
    "import csv\n",
    "import random\n",
    "\n",
    "# Initialize translator\n",
    "translator = Translator()\n",
    "\n",
    "# Fake dataset of previous reports for anomaly detection\n",
    "PREVIOUS_DATA = {\n",
    "    'grower1': {'price': 100, 'production': 500, 'quality': 'good'},\n",
    "    'grower2': {'price': 90, 'production': 300, 'quality': 'average'},\n",
    "    # More data...\n",
    "}\n",
    "\n",
    "# Emergency call keywords to detect urgent health calls\n",
    "EMERGENCY_KEYWORDS = ['child', 'emergency', 'infant', 'health', 'doctor']\n",
    "\n",
    "# Word confusion mapping (e.g., 'mango' and 'child')\n",
    "CONFUSION_WORDS = {\n",
    "    'enfant': 'mango',  # French \"child\" may be confused with \"mango\"\n",
    "}\n",
    "\n",
    "# Manual Bambara to French translation fallback (for known phrases)\n",
    "BAMBARA_TO_FRENCH = {\n",
    "    \"dòn ni sèn tè\": \"La récolte n'est pas bonne\",  # \"The harvest is bad\"\n",
    "    \"dòn ni sèn ka sè\": \"La récolte est bonne\",     # \"The harvest is good\"\n",
    "    \"se fa nè\": \"Le prix est bas\",                 # \"The price is low\"\n",
    "    \"Ne ye musikɛla ye min bɛ Mango Mali ɲini\": \"Je suis un musicien à la recherche de Mango Mali\", # \"I'm a musician looking for Mango Mali\"\n",
    "    \"Denmisɛnw ka kɛnɛyako gɛlɛya\": \"La crise sanitaire des enfants\"               # \"Infant health problem\"\n",
    "    # Add more mappings as needed\n",
    "}\n",
    "\n",
    "# Helper functions\n",
    "\n",
    "def translate_bambara_to_french(bambara_text):\n",
    "    \"\"\"\n",
    "    Translate Bambara input to French using googletrans or manual fallback.\n",
    "    \"\"\"\n",
    "    if bambara_text in BAMBARA_TO_FRENCH:\n",
    "        return BAMBARA_TO_FRENCH[bambara_text]\n",
    "    \n",
    "    try:\n",
    "        # If translation fails or Bambara isn't supported, treat it as French\n",
    "        result = translator.translate(bambara_text, src='fr', dest='fr')\n",
    "        return result.text\n",
    "    except Exception as e:\n",
    "        print(f\"Error in Bambara to French translation: {e}\")\n",
    "        return bambara_text  # Return original if translation fails\n",
    "\n",
    "def translate_french_to_english(french_text):\n",
    "    \"\"\"\n",
    "    Use Googletrans to translate French text to English, with error handling.\n",
    "    \"\"\"\n",
    "    try:\n",
    "        result = translator.translate(french_text, src='fr', dest='en')\n",
    "        # Ensure that a valid result was returned\n",
    "        if result and result.text:\n",
    "            return result.text\n",
    "        else:\n",
    "            raise ValueError(\"Translation returned None\")\n",
    "    except Exception as e:\n",
    "        print(f\"Error in French to English translation: {e}\")\n",
    "        # Return the original French text with a warning if translation fails\n",
    "        return f\"[Translation failed] {french_text}\"\n",
    "\n",
    "def detect_emergency_call(text):\n",
    "    \"\"\"\n",
    "    Detect if the call is related to an emergency situation.\n",
    "    \"\"\"\n",
    "    for keyword in EMERGENCY_KEYWORDS:\n",
    "        if keyword in text.lower():\n",
    "            return True\n",
    "    return False\n",
    "\n",
    "def resolve_confusion(french_text):\n",
    "    \"\"\"\n",
    "    Resolve known confusions between words like 'child' and 'mango'.\n",
    "    \"\"\"\n",
    "    for french_word, correct_word in CONFUSION_WORDS.items():\n",
    "        french_text = french_text.replace(french_word, correct_word)\n",
    "    return french_text\n",
    "\n",
    "def collect_data_and_detect_fraud(grower_id, price, production, quality):\n",
    "    \"\"\"\n",
    "    Detect fraud in the reported data based on historical trends and anomalies.\n",
    "    \"\"\"\n",
    "    prev_data = PREVIOUS_DATA.get(grower_id)\n",
    "    if not prev_data:\n",
    "        return False  # No historical data, can't detect fraud\n",
    "    \n",
    "    # Basic fraud detection logic (for demo purposes)\n",
    "    if abs(prev_data['price'] - price) > 20 or abs(prev_data['production'] - production) > 100:\n",
    "        return True\n",
    "    return False\n",
    "\n",
    "# Add a set of keywords related to the music production company \"Mango Mali\"\n",
    "MUSIC_KEYWORDS = ['mango mali', 'music', 'album', 'concert', 'song', 'musician']\n",
    "\n",
    "def detect_music_related_call(text):\n",
    "    \"\"\"\n",
    "    Detect if the call is related to music production.\n",
    "    \"\"\"\n",
    "    for keyword in MUSIC_KEYWORDS:\n",
    "        if keyword.lower() in text.lower():\n",
    "            return True\n",
    "    return False\n",
    "\n",
    "# Main process\n",
    "\n",
    "def process_call():\n",
    "    \"\"\"\n",
    "    The main function that handles a call, processes input, and saves to CSV.\n",
    "    \"\"\"\n",
    "    # Step 1: Get phone number input\n",
    "    phone_number = input(\"Enter the caller's phone number: \")\n",
    "\n",
    "    # Step 2: Manually enter Bambara text (since we're not using audio input)\n",
    "    bambara_input = input(\"Enter Bambara input (simulated): \")\n",
    "\n",
    "    # Step 3: Translate Bambara to French using manual or googletrans fallback\n",
    "    french_text = translate_bambara_to_french(bambara_input)\n",
    "    print(f\"Translated to French: {french_text}\")\n",
    "\n",
    "    # Step 4: Check for music-related call (fans calling for Mango Mali)\n",
    "    if detect_music_related_call(french_text):\n",
    "        print(\"Music-related call detected! Informing the caller they have reached the wrong number.\")\n",
    "        return  # Redirecting call, no further processing\n",
    "\n",
    "    # Step 5: Check for emergency call\n",
    "    if detect_emergency_call(french_text):\n",
    "        print(\"Emergency detected! Redirecting call...\")\n",
    "        return  # Redirecting call, no further processing\n",
    "\n",
    "    # Step 6: Resolve known word confusion (mango vs child)\n",
    "    french_text = resolve_confusion(french_text)\n",
    "\n",
    "    # Step 7: Translate French to English using googletrans, handle failed translation\n",
    "    english_text = translate_french_to_english(french_text)\n",
    "    print(f\"Translated to English: {english_text}\")\n",
    "\n",
    "    # Simulate data collection\n",
    "    grower_id = 'grower1'  # This would be determined dynamically\n",
    "    price = random.randint(80, 150)\n",
    "    production = random.randint(200, 600)\n",
    "    quality = 'good' if random.random() > 0.2 else 'bad'\n",
    "\n",
    "    # Step 8: Detect fraudulent reports\n",
    "    is_fraud = collect_data_and_detect_fraud(grower_id, price, production, quality)\n",
    "    if is_fraud:\n",
    "        print(\"Fraud detected in the report!\")\n",
    "    \n",
    "    # Step 9: Save the processed data to a CSV\n",
    "    with open('market_report_new.csv', mode='a', newline='') as file:  # Changed file name\n",
    "        writer = csv.writer(file)\n",
    "        # Write data to CSV with translated English text or failure message\n",
    "        writer.writerow([grower_id, price, production, quality, english_text])\n",
    "\n",
    "    print(\"Data saved to CSV.\")"
   ]
  },
  {
   "cell_type": "code",
   "execution_count": 75,
   "id": "ec7959a9-b562-4e99-bfd1-658bb92d1a88",
   "metadata": {},
   "outputs": [
    {
     "name": "stdin",
     "output_type": "stream",
     "text": [
      "Enter the caller's phone number:  12345\n",
      "Enter Bambara input (simulated):  dòn ni sèn ka sè\n"
     ]
    },
    {
     "name": "stdout",
     "output_type": "stream",
     "text": [
      "Translated to French: La récolte est bonne\n",
      "Error in French to English translation: the JSON object must be str, bytes or bytearray, not NoneType\n",
      "Translated to English: [Translation failed] La récolte est bonne\n",
      "Data saved to CSV.\n"
     ]
    }
   ],
   "source": [
    "#Normal grower report\n",
    "process_call()"
   ]
  },
  {
   "cell_type": "code",
   "execution_count": 74,
   "id": "a40c110d-2726-48dd-a20b-67a8d3954a2d",
   "metadata": {},
   "outputs": [
    {
     "name": "stdin",
     "output_type": "stream",
     "text": [
      "Enter the caller's phone number:  12345\n",
      "Enter Bambara input (simulated):  enfant\n"
     ]
    },
    {
     "name": "stdout",
     "output_type": "stream",
     "text": [
      "Translated to French: enfant\n",
      "Translated to English: mango\n",
      "Data saved to CSV.\n"
     ]
    }
   ],
   "source": [
    "# Engant vs Mango\n",
    "process_call()"
   ]
  },
  {
   "cell_type": "code",
   "execution_count": 73,
   "id": "eb0162d9-299c-40df-b080-b66acc735366",
   "metadata": {},
   "outputs": [
    {
     "name": "stdin",
     "output_type": "stream",
     "text": [
      "Enter the caller's phone number:  12345\n",
      "Enter Bambara input (simulated):  Infant health problem\n"
     ]
    },
    {
     "name": "stdout",
     "output_type": "stream",
     "text": [
      "Translated to French: Infant health problem\n",
      "Emergency detected! Redirecting call...\n"
     ]
    }
   ],
   "source": [
    "# Emergency call detection should redirect\n",
    "process_call()"
   ]
  },
  {
   "cell_type": "code",
   "execution_count": 69,
   "id": "ef8383cc-8aa8-4a8e-a232-85b69f787013",
   "metadata": {},
   "outputs": [
    {
     "name": "stdin",
     "output_type": "stream",
     "text": [
      "Enter the caller's phone number:  12345\n",
      "Enter Bambara input (simulated):  Infant health problem\n"
     ]
    },
    {
     "name": "stdout",
     "output_type": "stream",
     "text": [
      "Translated to French: Infant health problem\n",
      "Emergency detected! Redirecting call...\n"
     ]
    }
   ],
   "source": [
    "# Emergency call detection should redirect\n",
    "process_call()"
   ]
  },
  {
   "cell_type": "code",
   "execution_count": 67,
   "id": "5adf999a-48f6-4004-a347-6ce66cdc66b8",
   "metadata": {},
   "outputs": [
    {
     "name": "stdin",
     "output_type": "stream",
     "text": [
      "Enter the caller's phone number:  54321\n",
      "Enter Bambara input (simulated):  Ne ye musikɛla ye min bɛ Mango Mali ɲini\n"
     ]
    },
    {
     "name": "stdout",
     "output_type": "stream",
     "text": [
      "Translated to French: Je suis un musicien à la recherche de Mango Mali\n",
      "Music-related call detected! Informing the caller they have reached the wrong number.\n"
     ]
    }
   ],
   "source": [
    "# Example test for the music-related scenario\n",
    "process_call()"
   ]
  },
  {
   "cell_type": "code",
   "execution_count": 68,
   "id": "8ff06c0d-a186-4fa6-9f3e-592e1fc6765f",
   "metadata": {},
   "outputs": [
    {
     "name": "stdin",
     "output_type": "stream",
     "text": [
      "Enter the caller's phone number:  98765\n",
      "Enter Bambara input (simulated):  dòn ni sèn tè\n"
     ]
    },
    {
     "name": "stdout",
     "output_type": "stream",
     "text": [
      "Translated to French: La récolte n'est pas bonne\n",
      "Translated to English: The harvest is not good\n",
      "Fraud detected in the report!\n",
      "Data saved to CSV.\n"
     ]
    }
   ],
   "source": [
    "# Fraud detection\n",
    "process_call()"
   ]
  },
  {
   "cell_type": "code",
   "execution_count": null,
   "id": "40c19663-3656-462a-ae5d-167b1ba7924e",
   "metadata": {},
   "outputs": [],
   "source": []
  }
 ],
 "metadata": {
  "kernelspec": {
   "display_name": "Python 3 (ipykernel)",
   "language": "python",
   "name": "python3"
  },
  "language_info": {
   "codemirror_mode": {
    "name": "ipython",
    "version": 3
   },
   "file_extension": ".py",
   "mimetype": "text/x-python",
   "name": "python",
   "nbconvert_exporter": "python",
   "pygments_lexer": "ipython3",
   "version": "3.12.4"
  }
 },
 "nbformat": 4,
 "nbformat_minor": 5
}
