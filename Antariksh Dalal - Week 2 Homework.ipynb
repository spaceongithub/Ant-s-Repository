{
 "cells": [
  {
   "cell_type": "markdown",
   "id": "4c77a658-43d6-45e6-ab2a-019fcd7b2f66",
   "metadata": {},
   "source": [
    "# Jackson Python Sequences:\n",
    "\n",
    "In Python, sequence is a generic term for an ordered collection of elements. Sequences provide powerful ways to store, access, and manipulate ordered collections of data. We actually have a choice of sequences: lists, tuples, arrays. As a matter of fact a string is a \"sequence\" in that it is an ordered sequence of characters. In sequences, ordered collection of elements, each element is assigned an index based on its position in the sequence, starting with 0. "
   ]
  },
  {
   "cell_type": "markdown",
   "id": "c57b2eaa-6336-4066-b8cb-d989a4c88e06",
   "metadata": {},
   "source": [
    "## Python Sequences: Lists"
   ]
  },
  {
   "cell_type": "markdown",
   "id": "d6db6cb1-566c-4ec5-a282-b3cee064cead",
   "metadata": {},
   "source": [
    "Lists are among the most flexible and widely used data structure in Python. Lists allow you to store sets of information in one place, whether you have just a few items or millions of an item. They are essentially a collection of items in a particular order and you can put anything you want into a list. \n",
    "\n",
    "The syntax is simple: square brackets form the list\n",
    "\n",
    "Each individual item has quotations and is separated by commas."
   ]
  },
  {
   "cell_type": "markdown",
   "id": "74861bd7-cefa-466e-91b1-7a2bb13bc7ef",
   "metadata": {},
   "source": [
    "### Lists: Example\n",
    "\n",
    "Below is a list called aussi_animals with a few types of animals indigenous to Australia."
   ]
  },
  {
   "cell_type": "code",
   "execution_count": 2,
   "id": "64720df8-8bac-45a7-a73e-2678915eacb6",
   "metadata": {},
   "outputs": [
    {
     "name": "stdout",
     "output_type": "stream",
     "text": [
      "<class 'list'>\n",
      "['wombats', 'dingos', 'kangaroos', 'wallabees', 'koala']\n"
     ]
    }
   ],
   "source": [
    "aus_animals = [ 'wombats', 'dingos', 'kangaroos', 'wallabees', 'koala']\n",
    "#How can you check to see the type of object you created?\n",
    "print(type(aus_animals))\n",
    "print(aus_animals)"
   ]
  },
  {
   "cell_type": "markdown",
   "id": "9a7ca54a-c717-47e8-bda1-9bdc495f902c",
   "metadata": {
    "jp-MarkdownHeadingCollapsed": true
   },
   "source": [
    "1. Create a list of the UN Security Council Members and assign it the variable un_sc"
   ]
  },
  {
   "cell_type": "code",
   "execution_count": 3,
   "id": "4ceadf24-4ea6-4919-8cfd-206c0d827b66",
   "metadata": {},
   "outputs": [],
   "source": [
    "# your code here:\n",
    "un_sc = [ 'China', 'France', 'Russian Federation', 'United Kingdom', 'United States', 'Algeria', 'Ecudaor', 'Guyana', 'Japan', 'Malta', 'Mozambique', 'Republic of Korea', 'Sierra Leone', 'Slovenia', 'Switzerland']"
   ]
  },
  {
   "cell_type": "markdown",
   "id": "262507b8-4c6d-4e12-aeac-ecd12b427a11",
   "metadata": {},
   "source": [
    "2. What is the type of the variable un_sc?"
   ]
  },
  {
   "cell_type": "code",
   "execution_count": 5,
   "id": "3709eac4-d752-4666-acf5-9cf0aa417356",
   "metadata": {},
   "outputs": [
    {
     "name": "stdout",
     "output_type": "stream",
     "text": [
      "<class 'list'>\n"
     ]
    }
   ],
   "source": [
    "# your code here:\n",
    "print(type(un_sc))"
   ]
  },
  {
   "cell_type": "markdown",
   "id": "deb05db0-c7db-4de1-a660-dfef6cfbe02d",
   "metadata": {},
   "source": [
    "3. What is the length of the variable un_sc?"
   ]
  },
  {
   "cell_type": "code",
   "execution_count": 6,
   "id": "dd8e2ae0-521b-481c-8b3d-0c66c16a64e6",
   "metadata": {},
   "outputs": [
    {
     "data": {
      "text/plain": [
       "15"
      ]
     },
     "execution_count": 6,
     "metadata": {},
     "output_type": "execute_result"
    }
   ],
   "source": [
    "# your code here:\n",
    "len(un_sc)"
   ]
  },
  {
   "cell_type": "markdown",
   "id": "f052de4f-38dc-4988-90a9-e2cdae2a4528",
   "metadata": {},
   "source": [
    "## Another Way to Make a List. the list() method\n",
    "So, we saw that we can make a list using square brackets. We can also make a list using the list() function"
   ]
  },
  {
   "cell_type": "code",
   "execution_count": 7,
   "id": "f7017268-0f9d-4b63-950a-3abe6974d7c7",
   "metadata": {},
   "outputs": [
    {
     "name": "stdout",
     "output_type": "stream",
     "text": [
      "[1, 2, 3, 4]\n"
     ]
    }
   ],
   "source": [
    "#4. Run this please: \n",
    "nums = list((1,2,3,4))\n",
    "print(nums)"
   ]
  },
  {
   "cell_type": "markdown",
   "id": "3a953304-c174-489d-8292-469832745b25",
   "metadata": {},
   "source": [
    "That worked for numbers! Would it work the same for strings? Sure it does!"
   ]
  },
  {
   "cell_type": "code",
   "execution_count": 8,
   "id": "f9241148-3648-4aeb-8c5c-8b951a32bdbc",
   "metadata": {},
   "outputs": [
    {
     "name": "stdout",
     "output_type": "stream",
     "text": [
      "['Austin', 'Deven', 'Chris', 'Oliver', 'Nancy', 'Dana', 'Shreya']\n"
     ]
    }
   ],
   "source": [
    "#5. Run this please: \n",
    "students = list(('Austin', 'Deven', 'Chris', 'Oliver', 'Nancy', 'Dana', 'Shreya'))\n",
    "print(students)"
   ]
  },
  {
   "cell_type": "markdown",
   "id": "ad4b4c5d-5705-47c8-8a23-219e785db618",
   "metadata": {},
   "source": [
    "## Accessing Elements in a List\n",
    "\n",
    "As with strings, lists can be accessed by index. To access an element in a list, write the name of the list, followed by the index of an item in square brackets. \n"
   ]
  },
  {
   "cell_type": "code",
   "execution_count": 9,
   "id": "37cd1d95-71a5-4f1a-9947-642fe1eed7fd",
   "metadata": {},
   "outputs": [
    {
     "name": "stdout",
     "output_type": "stream",
     "text": [
      "dingos\n"
     ]
    }
   ],
   "source": [
    "#6 Example, run this please:\n",
    "aus_animals = [ 'wombats', 'dingos', 'kangaroos', 'wallabees', 'koala']\n",
    "print(aus_animals[1])"
   ]
  },
  {
   "cell_type": "markdown",
   "id": "00cd4ffc-f49c-47b6-81b7-0ea5a0e94ad7",
   "metadata": {},
   "source": [
    "Recall, Python indexing starts with 0. So it makes sense that the item in position 1 would be dingos.\n",
    "As we can see, Python returns the item without brackets of quotations. So what is the type of this object returned?"
   ]
  },
  {
   "cell_type": "code",
   "execution_count": 10,
   "id": "091cbd85-4729-49e2-8c9e-945469db2b49",
   "metadata": {},
   "outputs": [
    {
     "name": "stdout",
     "output_type": "stream",
     "text": [
      "<class 'str'>\n"
     ]
    }
   ],
   "source": [
    "7.  #your answer here:\n",
    "print(type(aus_animals[1]))"
   ]
  },
  {
   "cell_type": "markdown",
   "id": "888e812e-5c1c-4aef-a6ba-ad7a58b12fe3",
   "metadata": {},
   "source": [
    "Yes, a string! So we can call string methods on the item using it's index in a list"
   ]
  },
  {
   "cell_type": "code",
   "execution_count": 12,
   "id": "130b4f17-d2c3-42e4-9b86-da576f245042",
   "metadata": {},
   "outputs": [
    {
     "name": "stdout",
     "output_type": "stream",
     "text": [
      "Dingos\n",
      "Kangaroos\n"
     ]
    }
   ],
   "source": [
    "#8 Run this example please:\n",
    "print(aus_animals[1].capitalize())\n",
    "print(aus_animals[2].title())\n",
    "      "
   ]
  },
  {
   "cell_type": "code",
   "execution_count": 14,
   "id": "955eb81e-b8b5-477a-943f-f8cf770b2850",
   "metadata": {},
   "outputs": [
    {
     "name": "stdout",
     "output_type": "stream",
     "text": [
      "['CHINA', 'FRANCE', 'RUSSIA', 'UNITED STATES OF AMERICA', 'UNITED KINGDOM']\n"
     ]
    }
   ],
   "source": [
    "#Let's say we wanted to make all of the countries in our un_sc variable all caps. One way to do it is like this:\n",
    "   \n",
    "un_sc = ['china', 'france', 'russia', 'united states of america','united kingdom']\n",
    "\n",
    "# Use indexing to convert each element to uppercase\n",
    "un_sc[0] = un_sc[0].upper()\n",
    "\n",
    "un_sc[1] = un_sc[1].upper()\n",
    "\n",
    "un_sc[2] = un_sc[2].upper()\n",
    "\n",
    "un_sc[3] = un_sc[3].upper()\n",
    "\n",
    "un_sc[4] = un_sc[4].upper()\n",
    "\n",
    "print(un_sc)\n"
   ]
  },
  {
   "cell_type": "markdown",
   "id": "626000af-545a-457f-80fd-659150f9aaf9",
   "metadata": {},
   "source": [
    "## For loop with lists\n",
    "This is where our for loop could come in handy. A faster way is to automate the uppercase method, taking each element in the list and applying the upper method to it (iterating through the list) and then saving the new uppercase country to a new list. "
   ]
  },
  {
   "cell_type": "code",
   "execution_count": null,
   "id": "0e758e1c-4271-4394-b2a6-aa78f3167ce6",
   "metadata": {},
   "outputs": [],
   "source": [
    "#Let's iterate through the list and print the results making each element uppercase"
   ]
  },
  {
   "cell_type": "code",
   "execution_count": 15,
   "id": "765d2f71-02e8-468e-9ab6-e8d3a580e8a1",
   "metadata": {},
   "outputs": [
    {
     "name": "stdout",
     "output_type": "stream",
     "text": [
      "CHINA\n",
      "FRANCE\n",
      "RUSSIA\n",
      "UNITED STATES OF AMERICA\n",
      "UNITED KINGDOM\n"
     ]
    }
   ],
   "source": [
    "#9. Run this please:\n",
    "un_sc = ['china', 'france', 'russia', 'united states of america','united kingdom']\n",
    "for country in un_sc:\n",
    "    print(country.upper())"
   ]
  },
  {
   "cell_type": "code",
   "execution_count": null,
   "id": "6239fb62-87fc-456c-a0f9-ea8927fc1931",
   "metadata": {},
   "outputs": [],
   "source": [
    "10. What would happen if I printed un_sc? Have you changed this list?"
   ]
  },
  {
   "cell_type": "code",
   "execution_count": 16,
   "id": "14425391-539c-47aa-b2a0-32f89e697205",
   "metadata": {},
   "outputs": [
    {
     "name": "stdout",
     "output_type": "stream",
     "text": [
      "['china', 'france', 'russia', 'united states of america', 'united kingdom']\n"
     ]
    }
   ],
   "source": [
    "#Your answer here using sentences: No, because we did not save the upper values in the un_sc variable. un_sc still holds the original values.\n",
    "print(un_sc)"
   ]
  },
  {
   "cell_type": "markdown",
   "id": "44df7380-045a-401d-88cb-dc9d37a3751b",
   "metadata": {},
   "source": [
    "You may be wondering...can I just do it this way\n"
   ]
  },
  {
   "cell_type": "code",
   "execution_count": 17,
   "id": "2a26ffb6-e563-4a7c-8d4f-f2298195327c",
   "metadata": {},
   "outputs": [
    {
     "name": "stdout",
     "output_type": "stream",
     "text": [
      "['china', 'france', 'russia', 'united states of america', 'united kingdom']\n"
     ]
    }
   ],
   "source": [
    "un_sc = ['china', 'france', 'russia', 'united states of america','united kingdom']\n",
    "for country in un_sc:\n",
    "    country.upper()\n",
    "print(un_sc)"
   ]
  },
  {
   "cell_type": "markdown",
   "id": "df604858-5eab-406e-88bd-1faffe1acb17",
   "metadata": {},
   "source": [
    "11. What did the previous code produce? Why? Your answer here using sentences:\n",
    "\n",
    "It printed the original list without any manipulation because even though the upper method was parsed through the list the modified lsit was not saved within the un_sc variable"
   ]
  },
  {
   "cell_type": "markdown",
   "id": "7ac4579f-8e91-4de9-881e-49e5c42c4eb6",
   "metadata": {},
   "source": [
    "How about this way (below)? Will this work?"
   ]
  },
  {
   "cell_type": "code",
   "execution_count": 18,
   "id": "f0fb6702-a32d-41b8-9d54-777e40d69e4e",
   "metadata": {},
   "outputs": [
    {
     "name": "stdout",
     "output_type": "stream",
     "text": [
      "UNITED KINGDOM\n"
     ]
    }
   ],
   "source": [
    "un_sc = ['china', 'france', 'russia', 'united states of america','united kingdom']\n",
    "for country in un_sc:\n",
    "    un_sc_upper = country.upper()\n",
    "print(un_sc_upper)"
   ]
  },
  {
   "cell_type": "markdown",
   "id": "907c046e-0277-486f-bbb0-8bde6557e4d8",
   "metadata": {},
   "source": [
    "12. What result does the previous cell return? Why didn't it make each element in un_sc uppercase? Your answer here:\n",
    "\n",
    "We only get \"UNITED KINGDOM\" because the un_sc_upper variable is overwritten in each iteration of the loop and tThe print statement is outside the loop, so it only executes once after the loop completes."
   ]
  },
  {
   "cell_type": "markdown",
   "id": "d62a61c5-df13-4096-8889-22e610413cf2",
   "metadata": {},
   "source": [
    "## Correct Way to Iterate and Make a New List: Make an Empty List and \"Append\" to it! "
   ]
  },
  {
   "cell_type": "code",
   "execution_count": 21,
   "id": "9a399102-fabe-4e9c-a6f5-b4dbc3466862",
   "metadata": {},
   "outputs": [
    {
     "name": "stdout",
     "output_type": "stream",
     "text": [
      "['CHINA', 'FRANCE', 'RUSSIA', 'UNITED STATES OF AMERICA', 'UNITED KINGDOM']\n"
     ]
    }
   ],
   "source": [
    "# 13, Run this please\n",
    "#first initialize and empty list\n",
    "un_sc_upper = []\n",
    "\n",
    "#then iterate through the list, then make each element an uppercase and add it (append it) to the empty list.\n",
    "\n",
    "un_sc = ['china', 'france', 'russia', 'united states of america','united kingdom']\n",
    "for country in un_sc:\n",
    "    un_sc_upper.append(country.upper())\n",
    "\n",
    "print(un_sc_upper)\n"
   ]
  },
  {
   "cell_type": "markdown",
   "id": "3aa34855-29f3-49d2-959d-0ea3f0b460f1",
   "metadata": {},
   "source": [
    "## What if I wanted to only grab certain countries that stated with 'u'? We can use a conditional and the append method"
   ]
  },
  {
   "cell_type": "markdown",
   "id": "596eb5f1-9cf7-4891-a9c2-b5b758fbb579",
   "metadata": {},
   "source": [
    "#14. Create a for loop. Using an if, else construction in your for loop, append countries to a list called 'u_countries' and append the rest of the countries to a list called 'non_u_countries'."
   ]
  },
  {
   "cell_type": "code",
   "execution_count": 24,
   "id": "86fda968-8120-4646-8f26-b7087e8dbdf6",
   "metadata": {},
   "outputs": [
    {
     "name": "stdout",
     "output_type": "stream",
     "text": [
      "['united states of america', 'united kingdom']\n",
      "['china', 'france', 'russia']\n"
     ]
    }
   ],
   "source": [
    "#Your code here:\n",
    "u_countries = []\n",
    "non_u_countries = []\n",
    "\n",
    "un_sc = ['china', 'france', 'russia', 'united states of america','united kingdom']\n",
    "for country in un_sc:\n",
    "    if country[0].upper() == \"U\":\n",
    "        u_countries.append(country)\n",
    "    else:\n",
    "        non_u_countries.append(country)\n",
    "\n",
    "print(u_countries)\n",
    "print(non_u_countries)"
   ]
  },
  {
   "cell_type": "code",
   "execution_count": 34,
   "id": "4d1d23d0-d8d6-4d2e-8f2a-ae9e6c4781ac",
   "metadata": {},
   "outputs": [
    {
     "name": "stdout",
     "output_type": "stream",
     "text": [
      "['united states of america', 'united kingdom']\n",
      "['china', 'france', 'russia']\n"
     ]
    }
   ],
   "source": [
    "#Your code here:\n",
    "u_countries = []\n",
    "non_u_countries = []\n",
    "\n",
    "un_sc = ['china', 'france', 'russia', 'united states of america','united kingdom']\n",
    "for country in un_sc:\n",
    "    if country.upper().startswith(\"U\"):\n",
    "        u_countries.append(country)\n",
    "    else:\n",
    "        non_u_countries.append(country)\n",
    "\n",
    "print(u_countries)\n",
    "print(non_u_countries)"
   ]
  },
  {
   "cell_type": "markdown",
   "id": "47176073-aedd-45f8-8ca3-a41d7260fa34",
   "metadata": {},
   "source": [
    "## Adding to a list\n",
    "We can also use append to add an element to a list. For example, let's say we wanted to add Josh to our list of students.\n"
   ]
  },
  {
   "cell_type": "code",
   "execution_count": 25,
   "id": "9a5b6d4f-0651-4ba6-b3bc-25b4302129f9",
   "metadata": {},
   "outputs": [
    {
     "name": "stdout",
     "output_type": "stream",
     "text": [
      "['Austin', 'Deven', 'Chris', 'Oliver', 'Nancy', 'Dana', 'Shreya', 'Josh']\n"
     ]
    }
   ],
   "source": [
    "15. #Please run the following code:\n",
    "students = list(('Austin', 'Deven', 'Chris', 'Oliver', 'Nancy', 'Dana', 'Shreya'))\n",
    "students.append('Josh')\n",
    "print(students)"
   ]
  },
  {
   "cell_type": "markdown",
   "id": "5bdbe5cd-89af-45ad-b3a5-8b74d5dfa5d4",
   "metadata": {},
   "source": [
    "What if we wanted to add several students to our list? We use the extend method! "
   ]
  },
  {
   "cell_type": "code",
   "execution_count": 26,
   "id": "8613b4af-3064-44cb-bec9-866eb44343a6",
   "metadata": {},
   "outputs": [
    {
     "ename": "TypeError",
     "evalue": "list.append() takes exactly one argument (2 given)",
     "output_type": "error",
     "traceback": [
      "\u001b[1;31m---------------------------------------------------------------------------\u001b[0m",
      "\u001b[1;31mTypeError\u001b[0m                                 Traceback (most recent call last)",
      "Cell \u001b[1;32mIn[26], line 3\u001b[0m\n\u001b[0;32m      1\u001b[0m \u001b[38;5;66;03m#16. Will this work? Please run this code:\u001b[39;00m\n\u001b[0;32m      2\u001b[0m students \u001b[38;5;241m=\u001b[39m \u001b[38;5;28mlist\u001b[39m((\u001b[38;5;124m'\u001b[39m\u001b[38;5;124mAustin\u001b[39m\u001b[38;5;124m'\u001b[39m, \u001b[38;5;124m'\u001b[39m\u001b[38;5;124mDeven\u001b[39m\u001b[38;5;124m'\u001b[39m, \u001b[38;5;124m'\u001b[39m\u001b[38;5;124mChris\u001b[39m\u001b[38;5;124m'\u001b[39m, \u001b[38;5;124m'\u001b[39m\u001b[38;5;124mOliver\u001b[39m\u001b[38;5;124m'\u001b[39m, \u001b[38;5;124m'\u001b[39m\u001b[38;5;124mNancy\u001b[39m\u001b[38;5;124m'\u001b[39m, \u001b[38;5;124m'\u001b[39m\u001b[38;5;124mDana\u001b[39m\u001b[38;5;124m'\u001b[39m, \u001b[38;5;124m'\u001b[39m\u001b[38;5;124mShreya\u001b[39m\u001b[38;5;124m'\u001b[39m))\n\u001b[1;32m----> 3\u001b[0m students\u001b[38;5;241m.\u001b[39mappend(\u001b[38;5;124m'\u001b[39m\u001b[38;5;124mDidace\u001b[39m\u001b[38;5;124m'\u001b[39m, \u001b[38;5;124m'\u001b[39m\u001b[38;5;124mJennifer\u001b[39m\u001b[38;5;124m'\u001b[39m)\n\u001b[0;32m      4\u001b[0m \u001b[38;5;28mprint\u001b[39m(students)\n",
      "\u001b[1;31mTypeError\u001b[0m: list.append() takes exactly one argument (2 given)"
     ]
    }
   ],
   "source": [
    "#16. Will this work? Please run this code:\n",
    "students = list(('Austin', 'Deven', 'Chris', 'Oliver', 'Nancy', 'Dana', 'Shreya'))\n",
    "students.append('Didace', 'Jennifer')\n",
    "print(students)"
   ]
  },
  {
   "cell_type": "markdown",
   "id": "316880f8-8ddb-4f98-9925-cbe635868b5d",
   "metadata": {},
   "source": [
    "#What error did this return? How do interpret it? Your answer here:\n",
    "The error highlights that append method can take only 1 argument which means we can only append one item at a time"
   ]
  },
  {
   "cell_type": "code",
   "execution_count": 30,
   "id": "86914d45-eceb-4176-8610-699c49a36644",
   "metadata": {},
   "outputs": [
    {
     "name": "stdout",
     "output_type": "stream",
     "text": [
      "['Austin', 'Deven', 'Chris', 'Oliver', 'Nancy', 'Dana', 'Shreya', 'Didace', 'Jennifer']\n"
     ]
    }
   ],
   "source": [
    "#17. Extend works. But we must pass multiple elements to the extend function as a list.\n",
    "#Please run this code and make sure it works.\n",
    "students = list(('Austin', 'Deven', 'Chris', 'Oliver', 'Nancy', 'Dana', 'Shreya'))\n",
    "students.extend(['Didace', 'Jennifer'])\n",
    "print(students)"
   ]
  },
  {
   "cell_type": "code",
   "execution_count": 32,
   "id": "e8c3f9da-e3d1-4d94-86e9-7119f7b7e051",
   "metadata": {},
   "outputs": [
    {
     "name": "stdout",
     "output_type": "stream",
     "text": [
      "['Austin', 'Chris', 'Oliver', 'Nancy', 'Dana', 'Shreya', 'Anoushka', 'Aishwarya', 'E', 'v', 'e']\n"
     ]
    }
   ],
   "source": [
    "#18. Extend can be used to add a list of elelments, a tuple(tuple...we will get to it!) of elements and even a string.\n",
    "# Please read this code and run it.\n",
    "\n",
    "#Initial list of students\n",
    "students = ['Austin', 'Chris', 'Oliver', 'Nancy']\n",
    "\n",
    "# Extending the list with another list\n",
    "new_students_list = ['Dana', 'Shreya']\n",
    "students.extend(new_students_list)\n",
    "\n",
    "# Extending the list with a tuple\n",
    "new_students_tuple = ('Anoushka', 'Aishwarya')\n",
    "students.extend(new_students_tuple)\n",
    "\n",
    "# Extending the list with a string (each character will be added as a separate element)\n",
    "new_students_string = \"Eve\"\n",
    "students.extend(new_students_string)\n",
    "\n",
    "# Final list\n",
    "print(students)\n",
    "\n"
   ]
  },
  {
   "cell_type": "markdown",
   "id": "7af48828-32c8-40f8-abd6-0d94c15b406a",
   "metadata": {},
   "source": [
    "## What's a Tuple?\n",
    "\n",
    "A tuple in Python is an immutable, ordered collection of elements, similar to a list. However, unlike lists, tuples cannot be modified after they are created, meaning you cannot add, remove, or change elements once the tuple is defined.\n",
    "\n",
    "Key Characteristics of Tuples:\n",
    "\n",
    "Ordered: The elements in a tuple are ordered, and you can access them using an index (just like in lists).\n",
    "\n",
    "Immutable: Once a tuple is created, its contents cannot be changed (i.e., no adding, removing, or changing elements). But as we saw above, a tuple can be added to a list. \n",
    "\n",
    "Can contain mixed data types: A tuple can hold elements of different types, such as integers, strings, floats, and even other tuples or lists.\n",
    "\n",
    "Indexable and iterable: You can access elements using an index and iterate over the elements using a loop.\n",
    "\n",
    "Allows duplicates: Tuples can contain duplicate elements, just like lists"
   ]
  },
  {
   "cell_type": "markdown",
   "id": "8a7b3d9c-68ce-4fe0-bd72-b1517610cd1c",
   "metadata": {},
   "source": [
    "### Creating a Tuple:\n",
    "Tuples are created by enclosing the elements inside parentheses () and separating them by commas."
   ]
  },
  {
   "cell_type": "code",
   "execution_count": 35,
   "id": "0a225643-190e-4228-b20f-f42188e1c92f",
   "metadata": {},
   "outputs": [
    {
     "name": "stdout",
     "output_type": "stream",
     "text": [
      "(1, 'apple', 3.14, 'banana')\n",
      "apple\n"
     ]
    }
   ],
   "source": [
    "# Creating a tuple with mixed data types\n",
    "my_tuple = (1, 'apple', 3.14, 'banana')\n",
    "\n",
    "print(my_tuple)       # Output: (1, 'apple', 3.14, 'banana')\n",
    "print(my_tuple[1])    # Output: 'apple'\n"
   ]
  },
  {
   "cell_type": "code",
   "execution_count": 2,
   "id": "09c1f7a0-563f-42df-80e7-79b017183a25",
   "metadata": {},
   "outputs": [
    {
     "name": "stdout",
     "output_type": "stream",
     "text": [
      "['Bach', 'Joplin', 'Debussy', 'Isang', 'Rachmaninoff']\n"
     ]
    }
   ],
   "source": [
    "## Okay back to lists: other ways to add elements.\n",
    "#Please run this code\n",
    "\n",
    "composers = []\n",
    "composers.append('Bach')\n",
    "composers.append('Joplin')\n",
    "composers.append('Debussy')\n",
    "composers.append('Isang')\n",
    "composers.append('Rachmaninoff')\n",
    "print(composers)\n"
   ]
  },
  {
   "cell_type": "code",
   "execution_count": null,
   "id": "ebce7cd4-6f86-4dba-a3b5-f9f38166f02b",
   "metadata": {},
   "outputs": [],
   "source": [
    "#What if I wanted to add a composer to the list but not at the end? Insert takes two arguments, index position, and element.\n"
   ]
  },
  {
   "cell_type": "code",
   "execution_count": 3,
   "id": "72a88e42-de57-462e-9b9f-c357f3d66b7c",
   "metadata": {},
   "outputs": [
    {
     "name": "stdout",
     "output_type": "stream",
     "text": [
      "['Bach', 'Joplin', 'Bhoi', 'Debussy', 'Isang', 'Rachmaninoff']\n"
     ]
    }
   ],
   "source": [
    "#19. Please run this code\n",
    "\n",
    "composers.insert(2, 'Bhoi')\n",
    "print(composers)"
   ]
  },
  {
   "cell_type": "code",
   "execution_count": 4,
   "id": "b41cfbb6-f9d5-4639-9fdf-5a70044247c0",
   "metadata": {},
   "outputs": [
    {
     "name": "stdout",
     "output_type": "stream",
     "text": [
      "['Bach', 'Dikshitar', 'Joplin', 'Saz', 'Bhoi', 'Debussy', 'Isang', 'Rachmaninoff']\n"
     ]
    }
   ],
   "source": [
    "#20. Can you insert more than one element at a time?\n",
    "#Please insert Dikshitar in position 1 and Saz in position 3 to your composer list in position.\n",
    "# Your answer yes or no to the first question. And write code here:\n",
    "# No, insert let's you enter only oen item at a time. \n",
    "\n",
    "composers.insert(1, 'Dikshitar')\n",
    "composers.insert(3, 'Saz')\n",
    "print(composers)"
   ]
  },
  {
   "cell_type": "markdown",
   "id": "bb801ad1-574d-4560-a477-5930b3bf8d94",
   "metadata": {},
   "source": [
    "## Sort the previous list alphabetically: Sort and Sorted!\n",
    "The primary difference between the list sort() and the sorted () function is that the sort() function will modifu the list it is called on. The sorted() function will create a new list containing a sorted version of the list it is given. The sorted() function will not modify the list passed as a parameter. If you want to sort a list but still have the original unsorted version, then you would use the sorted() funciton. If maintaing the orifinal order of the lis tis unimportant, then you can call the sort () function on the list."
   ]
  },
  {
   "cell_type": "code",
   "execution_count": 5,
   "id": "da55bbb8-7288-4361-a322-00183db7b66d",
   "metadata": {},
   "outputs": [
    {
     "name": "stdout",
     "output_type": "stream",
     "text": [
      "['Bach', 'Bhoi', 'Debussy', 'Dikshitar', 'Isang', 'Joplin', 'Rachmaninoff', 'Saz']\n",
      "['Bach', 'Dikshitar', 'Joplin', 'Saz', 'Bhoi', 'Debussy', 'Isang', 'Rachmaninoff']\n"
     ]
    }
   ],
   "source": [
    "#21. Please run this code:\n",
    "sorted_composers = sorted(composers)\n",
    "print(sorted_composers)\n",
    "print(composers)\n",
    "#note we have done nothing to alter our first list."
   ]
  },
  {
   "cell_type": "code",
   "execution_count": 7,
   "id": "989b5f5f-be03-45c2-a5bd-f84557e4c95d",
   "metadata": {},
   "outputs": [
    {
     "name": "stdout",
     "output_type": "stream",
     "text": [
      "['Bach', 'Bhoi', 'Debussy', 'Dikshitar', 'Isang', 'Joplin', 'Rachmaninoff', 'Saz']\n",
      "['Bach', 'Bhoi', 'Debussy', 'Dikshitar', 'Isang', 'Joplin', 'Rachmaninoff', 'Saz']\n"
     ]
    }
   ],
   "source": [
    "#22. Please run this code:\n",
    "composers.sort()\n",
    "#Will permanently alter the order of your list\n",
    "print(composers)"
   ]
  },
  {
   "cell_type": "code",
   "execution_count": 9,
   "id": "b11fd2b7-5dcf-470f-a8c0-ec6b8de29be2",
   "metadata": {},
   "outputs": [
    {
     "name": "stdout",
     "output_type": "stream",
     "text": [
      "[982, 901, 80, 588, 800, 877, 307, 482, 266, 821, 538, 112, 900, 442, 974, 567, 395, 309, 725, 396, 125, 937, 984, 331, 998, 598, 914, 66, 917, 642, 83, 768, 595, 385, 235, 462, 290, 899, 589, 221, 806, 82, 211, 645, 280, 179, 862, 99, 540, 222, 137, 379, 468, 350, 675, 191, 49, 338, 337, 758, 672, 767, 695, 263, 278, 994, 414, 40, 11, 960, 428, 477, 184, 749, 483, 684, 838, 345, 572, 951, 687, 799, 678, 210, 101, 312, 271, 33, 461, 839, 220, 945, 859, 62, 485, 359, 318, 786, 471, 447, 676, 470, 141, 830, 372, 750, 438, 140, 574, 457, 995, 761, 441, 878, 573, 354, 432, 757, 128, 167, 729, 421, 476, 711, 293, 636, 694, 919, 996, 279, 47, 380, 249, 120, 363, 413, 491, 577, 728, 579, 824, 166, 778, 219, 981, 849, 586, 183, 997, 358, 316, 754, 918, 68, 257, 386, 513, 53, 898, 562, 336, 731, 987, 154, 445, 423, 393, 276, 959, 536, 110, 502, 103, 272, 452, 330, 490, 833, 912, 252, 136, 938, 857, 909, 720, 35, 433, 985, 616, 206, 503, 176, 427, 56, 352, 406, 391, 329, 903, 637, 295, 204, 963, 944, 356, 892, 619, 690, 20, 872, 75, 653, 876, 464, 954, 596, 894, 389, 927, 556, 686, 895, 267, 469, 282, 237, 931, 94, 236, 246, 239, 357, 351, 126, 773, 24, 463, 250, 999, 242, 415, 738, 275, 537, 182, 95, 697, 262, 301, 666]\n",
      "[11, 20, 24, 33, 35, 40, 47, 49, 53, 56, 62, 66, 68, 75, 80, 82, 83, 94, 95, 99, 101, 103, 110, 112, 120, 125, 126, 128, 136, 137, 140, 141, 154, 166, 167, 176, 179, 182, 183, 184, 191, 204, 206, 210, 211, 219, 220, 221, 222, 235, 236, 237, 239, 242, 246, 249, 250, 252, 257, 262, 263, 266, 267, 271, 272, 275, 276, 278, 279, 280, 282, 290, 293, 295, 301, 307, 309, 312, 316, 318, 329, 330, 331, 336, 337, 338, 345, 350, 351, 352, 354, 356, 357, 358, 359, 363, 372, 379, 380, 385, 386, 389, 391, 393, 395, 396, 406, 413, 414, 415, 421, 423, 427, 428, 432, 433, 438, 441, 442, 445, 447, 452, 457, 461, 462, 463, 464, 468, 469, 470, 471, 476, 477, 482, 483, 485, 490, 491, 502, 503, 513, 536, 537, 538, 540, 556, 562, 567, 572, 573, 574, 577, 579, 586, 588, 589, 595, 596, 598, 616, 619, 636, 637, 642, 645, 653, 666, 672, 675, 676, 678, 684, 686, 687, 690, 694, 695, 697, 711, 720, 725, 728, 729, 731, 738, 749, 750, 754, 757, 758, 761, 767, 768, 773, 778, 786, 799, 800, 806, 821, 824, 830, 833, 838, 839, 849, 857, 859, 862, 872, 876, 877, 878, 892, 894, 895, 898, 899, 900, 901, 903, 909, 912, 914, 917, 918, 919, 927, 931, 937, 938, 944, 945, 951, 954, 959, 960, 963, 974, 981, 982, 984, 985, 987, 994, 995, 996, 997, 998, 999]\n"
     ]
    }
   ],
   "source": [
    "#23. Please create a new list of numbers, but do not change the original list. Please first, \n",
    "#print the numbers to confirm the code to generate them worked.\n",
    "import random\n",
    "# this line of code allows me to create a 250 long list of random numbers between 10 and 1000.\n",
    "numbers = random.sample(range(10,1000), 250)\n",
    "print(numbers)\n",
    "#Your code here:\n",
    "sorted_numbers = sorted(numbers)\n",
    "print(sorted_numbers)"
   ]
  },
  {
   "cell_type": "code",
   "execution_count": 10,
   "id": "667ae8f2-2e90-430e-9305-2f3559cb0ef7",
   "metadata": {},
   "outputs": [
    {
     "name": "stdout",
     "output_type": "stream",
     "text": [
      "250\n",
      "250\n"
     ]
    }
   ],
   "source": [
    "#24. How long is the list?\n",
    "#Your code here:\n",
    "print(len(numbers))\n",
    "print(len(sorted_numbers))"
   ]
  },
  {
   "cell_type": "code",
   "execution_count": 16,
   "id": "0190f9f7-6e46-45e7-b91d-c75369f8633f",
   "metadata": {},
   "outputs": [
    {
     "name": "stdout",
     "output_type": "stream",
     "text": [
      "(666, 301, 262, 697, 95, 182, 537, 275, 738, 415, 242, 999, 250, 463, 24, 773, 126, 351, 357, 239, 246, 236, 94, 931, 237, 282, 469, 267, 895, 686, 556, 927, 389, 894, 596, 954, 464, 876, 653, 75, 872, 20, 690, 619, 892, 356, 944, 963, 204, 295, 637, 903, 329, 391, 406, 352, 56, 427, 176, 503, 206, 616, 985, 433, 35, 720, 909, 857, 938, 136, 252, 912, 833, 490, 330, 452, 272, 103, 502, 110, 536, 959, 276, 393, 423, 445, 154, 987, 731, 336, 562, 898, 53, 513, 386, 257, 68, 918, 754, 316, 358, 997, 183, 586, 849, 981, 219, 778, 166, 824, 579, 728, 577, 491, 413, 363, 120, 249, 380, 47, 279, 996, 919, 694, 636, 293, 711, 476, 421, 729, 167, 128, 757, 432, 354, 573, 878, 441, 761, 995, 457, 574, 140, 438, 750, 372, 830, 141, 470, 676, 447, 471, 786, 318, 359, 485, 62, 859, 945, 220, 839, 461, 33, 271, 312, 101, 210, 678, 799, 687, 951, 572, 345, 838, 684, 483, 749, 184, 477, 428, 960, 11, 40, 414, 994, 278, 263, 695, 767, 672, 758, 337, 338, 49, 191, 675, 350, 468, 379, 137, 222, 540, 99, 862, 179, 280, 645, 211, 82, 806, 221, 589, 899, 290, 462, 235, 385, 595, 768, 83, 642, 917, 66, 914, 598, 998, 331, 984, 937, 125, 396, 725, 309, 395, 567, 974, 442, 900, 112, 538, 821, 266, 482, 307, 877, 800, 588, 80, 901, 982)\n",
      "(999, 998, 997, 996, 995, 994, 987, 985, 984, 982, 981, 974, 963, 960, 959, 954, 951, 945, 944, 938, 937, 931, 927, 919, 918, 917, 914, 912, 909, 903, 901, 900, 899, 898, 895, 894, 892, 878, 877, 876, 872, 862, 859, 857, 849, 839, 838, 833, 830, 824, 821, 806, 800, 799, 786, 778, 773, 768, 767, 761, 758, 757, 754, 750, 749, 738, 731, 729, 728, 725, 720, 711, 697, 695, 694, 690, 687, 686, 684, 678, 676, 675, 672, 666, 653, 645, 642, 637, 636, 619, 616, 598, 596, 595, 589, 588, 586, 579, 577, 574, 573, 572, 567, 562, 556, 540, 538, 537, 536, 513, 503, 502, 491, 490, 485, 483, 482, 477, 476, 471, 470, 469, 468, 464, 463, 462, 461, 457, 452, 447, 445, 442, 441, 438, 433, 432, 428, 427, 423, 421, 415, 414, 413, 406, 396, 395, 393, 391, 389, 386, 385, 380, 379, 372, 363, 359, 358, 357, 356, 354, 352, 351, 350, 345, 338, 337, 336, 331, 330, 329, 318, 316, 312, 309, 307, 301, 295, 293, 290, 282, 280, 279, 278, 276, 275, 272, 271, 267, 266, 263, 262, 257, 252, 250, 249, 246, 242, 239, 237, 236, 235, 222, 221, 220, 219, 211, 210, 206, 204, 191, 184, 183, 182, 179, 176, 167, 166, 154, 141, 140, 137, 136, 128, 126, 125, 120, 112, 110, 103, 101, 99, 95, 94, 83, 82, 80, 75, 68, 66, 62, 56, 53, 49, 47, 40, 35, 33, 24, 20, 11)\n"
     ]
    }
   ],
   "source": [
    "#25. Now reverse your list\n",
    "#Your code here:\n",
    "reversed_numbers = tuple(reversed(numbers))\n",
    "print(reversed_numbers)\n",
    "\n",
    "reversed_sorted_numbers = tuple(reversed(sorted_numbers))\n",
    "print(reversed_sorted_numbers)"
   ]
  },
  {
   "cell_type": "markdown",
   "id": "87fbe068-21a8-4f11-8a95-35d8223ac65e",
   "metadata": {},
   "source": [
    "## We learned to add elements, let's talk about how to get rid of them. There are three ways.\n",
    "1. del (by index)\n",
    "\n",
    "2. pop(last item)\n",
    "\n",
    "3. remove(by item name)"
   ]
  },
  {
   "cell_type": "code",
   "execution_count": 28,
   "id": "1a86cb5b-b747-4690-a2e9-215350ddd711",
   "metadata": {},
   "outputs": [
    {
     "name": "stdout",
     "output_type": "stream",
     "text": [
      "['Austin', 'Deven', 'Chris', 'Oliver', 'Nancy', 'Dana', 'Shreya']\n",
      "['Austin', 'Deven', 'Chris', 'Nancy', 'Dana', 'Shreya']\n",
      "['Austin', 'Deven', 'Chris', 'Nancy', 'Dana']\n",
      "['Austin', 'Chris', 'Nancy', 'Dana']\n"
     ]
    }
   ],
   "source": [
    "#26. Please give an example of each of these techniques.\n",
    "#Your code here:\n",
    "students = list(('Austin', 'Deven', 'Chris', 'Oliver', 'Nancy', 'Dana', 'Shreya'))\n",
    "print(students)\n",
    "\n",
    "#del\n",
    "del (students[3])\n",
    "print(students)\n",
    "\n",
    "#pop\n",
    "students.pop()\n",
    "#students.pop(1)\n",
    "print(students)\n",
    "\n",
    "#remove\n",
    "students.remove(\"Deven\")\n",
    "print(students)\n"
   ]
  },
  {
   "cell_type": "markdown",
   "id": "f6583e7c-488a-4ec4-8118-2198b03614fd",
   "metadata": {},
   "source": [
    "## Accessing and Changing elements:\n",
    "\n"
   ]
  },
  {
   "cell_type": "code",
   "execution_count": 29,
   "id": "28d79baf-14c2-42dc-82ad-77c94674708e",
   "metadata": {},
   "outputs": [
    {
     "name": "stdout",
     "output_type": "stream",
     "text": [
      "Austin\n"
     ]
    }
   ],
   "source": [
    "#Accessing the first element in the list:\n",
    "students = ['Austin', 'Chris', 'Oliver', 'Nancy']\n",
    "first_student = students[0]\n",
    "print(first_student)"
   ]
  },
  {
   "cell_type": "code",
   "execution_count": 33,
   "id": "246dcf07-3661-4831-b5e3-cc9d68625592",
   "metadata": {},
   "outputs": [
    {
     "name": "stdout",
     "output_type": "stream",
     "text": [
      "['Austin', 'Chris', 'Oliver', 'Nancy']\n",
      "['Austin', 'Chris', 'Oliver', 'Dana']\n"
     ]
    }
   ],
   "source": [
    "#27. \n",
    "students = ['Austin', 'Chris', 'Oliver', 'Nancy']\n",
    "print(students)\n",
    "\n",
    "#Please change Dana for Nancy. Before you go to ChatGPT, think about it. Nancy is in index position 3. \n",
    "#Can you just make index postion three of this variable equal to Dana, rather than Nancy?\n",
    "#Your code here:\n",
    "\n",
    "students.insert(3, 'Dana')\n",
    "students.remove('Nancy')\n",
    "print(students)\n"
   ]
  },
  {
   "cell_type": "code",
   "execution_count": 34,
   "id": "9ffb0c46-9d01-41c4-b0c8-ce5101d6bd54",
   "metadata": {},
   "outputs": [
    {
     "name": "stdout",
     "output_type": "stream",
     "text": [
      "['Austin', 'Chris', 'Oliver', 'Nancy']\n",
      "['Austin', 'Chris', 'Oliver', 'Dana']\n"
     ]
    }
   ],
   "source": [
    "students = ['Austin', 'Chris', 'Oliver', 'Nancy']\n",
    "print(students)\n",
    "\n",
    "students[3] = 'Dana'\n",
    "print(students)"
   ]
  },
  {
   "cell_type": "markdown",
   "id": "642400aa-97bc-4c6d-84c1-b3a885b99478",
   "metadata": {},
   "source": [
    " ## Slicing lists\n",
    "You can slice lists, just like you slice strings, by index.\n"
   ]
  },
  {
   "cell_type": "code",
   "execution_count": 41,
   "id": "f91a218e-24cc-478f-9d4f-004ebfd46061",
   "metadata": {},
   "outputs": [
    {
     "name": "stdout",
     "output_type": "stream",
     "text": [
      "['Bach', 'Joplin', 'Bhoi', 'Debussy', 'Isang', 'Rachmaninoff']\n",
      "['Bhoi', 'Debussy', 'Isang']\n"
     ]
    }
   ],
   "source": [
    "#28.\n",
    "composers =['Bach', 'Joplin', 'Bhoi', 'Debussy', 'Isang', 'Rachmaninoff']\n",
    "print(composers)\n",
    "\n",
    "#please slice this list to get a sublist containing Bhoi, Debussy, and Isang and assign it to a variable called 'sublist'\n",
    "#Your code here:\n",
    "\n",
    "sublist = composers[2:5]\n",
    "print(sublist)"
   ]
  },
  {
   "cell_type": "code",
   "execution_count": 43,
   "id": "daf4f7ed-62cf-4f05-93fa-c8396c648d88",
   "metadata": {},
   "outputs": [
    {
     "name": "stdout",
     "output_type": "stream",
     "text": [
      "['Austin', 'Deven', 'Chris', 'Oliver', 'Nancy', 'Dana', 'Shreya', 'Didace', 'Jennifer']\n",
      "['Austin', 'Deven', 'Chris', 'Oliver']\n"
     ]
    }
   ],
   "source": [
    "#29. Please give me everything from the beginning to the fourth item using slicing\n",
    "python_students = ['Austin', 'Deven', 'Chris', 'Oliver', 'Nancy', 'Dana', 'Shreya', 'Didace', 'Jennifer']\n",
    "print(python_students)\n",
    "\n",
    "#your code here:\n",
    "\n",
    "python_students_slice = python_students[:4]\n",
    "print(python_students_slice)"
   ]
  },
  {
   "cell_type": "code",
   "execution_count": 45,
   "id": "696215f5-cf95-4012-ac71-3dff02bad1ae",
   "metadata": {
    "jp-MarkdownHeadingCollapsed": true
   },
   "outputs": [
    {
     "name": "stdout",
     "output_type": "stream",
     "text": [
      "['Austin', 'Deven', 'Chris', 'Oliver', 'Nancy', 'Dana', 'Shreya', 'Didace', 'Jennifer']\n",
      "['Nancy', 'Dana', 'Shreya', 'Didace', 'Jennifer']\n"
     ]
    }
   ],
   "source": [
    "#30.Please give me everything from the fifth item to the end:\n",
    "python_students = ['Austin', 'Deven', 'Chris', 'Oliver', 'Nancy', 'Dana', 'Shreya', 'Didace', 'Jennifer']\n",
    "print(python_students)\n",
    "\n",
    "#Your code here:\n",
    "\n",
    "python_students_slice_2 = python_students[4:]\n",
    "print(python_students_slice_2)"
   ]
  },
  {
   "cell_type": "markdown",
   "id": "5bda7e5c-c113-45f7-a767-49e97d22cccc",
   "metadata": {},
   "source": [
    "31.## Hacking Problem\n",
    "The technique of trying every possible password to gain access to a password restricted website is called a brute-force attack. Loops, both for and while, make this very easy. This is part of the reason why a fairly unsophisticated hacker can still be successful.\n",
    "\n",
    "Naughty people buy lists of passwords on the dark web and then use brute-force attacks to try to gain access to places they shouldn't be wandering. They often pay for their illicit purchases in bitcoin.\n",
    "\n",
    "In order to fight wrongdoing, we must imagine the world from their perspective. Some never come back. Others are guided by strong core principles and understand right and wrong.\n",
    "\n",
    "You are a hacker and have a budget of 3,200 Cape Verde Escudo to buy user passwords. On the AlphaBay Market on the dark web each password sells for .0008 BTC . Write a script that converts Escudo (based on current exchange rate) to dollars, and then dollars to bitcoin. Then output the number of passwords that you are able to buy.\n"
   ]
  },
  {
   "cell_type": "code",
   "execution_count": 54,
   "id": "0c1af207-6e5b-4667-8ad9-84a3b0de306a",
   "metadata": {},
   "outputs": [
    {
     "name": "stdout",
     "output_type": "stream",
     "text": [
      "3200\n",
      "0.01\n",
      "32.0\n",
      "1.6e-05\n",
      "0.000512\n",
      "0.0008\n",
      "With my budget of 3,200 Escudo I bought 0.6399999999999999 passwords\n"
     ]
    }
   ],
   "source": [
    "#31a.Your code here:\n",
    "\n",
    "budget_cve = 3200\n",
    "cve_dollars_rate = 0.0100\n",
    "print(budget_cve)\n",
    "print(cve_dollars_rate)\n",
    "\n",
    "budget_dollars = budget_cve * cve_dollars_rate\n",
    "print(budget_dollars)\n",
    "\n",
    "dollars_bitcoin_rate = 0.000016\n",
    "print(dollars_bitcoin_rate)\n",
    "\n",
    "budget_bitcoin = budget_dollars * dollars_bitcoin_rate\n",
    "print(budget_bitcoin)\n",
    "\n",
    "cost_per_password_bitcoin = 0.0008\n",
    "passwords_bought = (budget_bitcoin / cost_per_password_bitcoin)\n",
    "print(cost_per_password_bitcoin)\n",
    "print(f\"With my budget of 3,200 Escudo I bought {passwords_bought} passwords\")"
   ]
  },
  {
   "cell_type": "markdown",
   "id": "200f5c4f-b6d7-407b-a4f9-030473c310ba",
   "metadata": {},
   "source": [
    "Okay, you are off to a very naughty start.\n",
    "\n",
    "The vendor was generous and gave you more passwords than you could afford. Write a script that calculates how many passwords you got for free in Cape Verde Escudo.\n",
    "\n",
    "Passwords received: (please ignore italics as markdown interprets characters as commands. double click on markdown cell to access unaltered passwords)\n",
    "\n",
    "3asdad, letmein@!, qwerty, abc123, trustno1, Ilovesandy, !!@@###123, pl,mjytce!, p@s\n",
    "lf, 1q2w3e4r, letmein, iloveyou, password1, 1qaz2wsx, qazwsx, 12345, johnsp@ssw0rd, meandmymonkey, xboksrools, qwertyuiop, 77777, 888888, zaq1zaq1, 123qwe, excaliburr!, girlsrule!, @cce$$granted, iRulE!, pewdepieftw1, wtFstfUP, admin, master, sunshinesuzy, bobbyluvsdaBears!,qwertyuiop, w_uts_up, n0uger, aiden123, william123, sally123, pirsquareD, d0nutTreadonme, weedmn, MakeUSgr8, USA#1, FokiSiS, Footbahl, 2#22#1985, 11111, Dodgethis"
   ]
  },
  {
   "cell_type": "code",
   "execution_count": 59,
   "id": "c1bde4e7-52b7-475d-a830-02daeae23081",
   "metadata": {},
   "outputs": [
    {
     "name": "stdout",
     "output_type": "stream",
     "text": [
      "51\n"
     ]
    }
   ],
   "source": [
    "#31b. Your code here:\n",
    "\n",
    "passwords_received = [\"3asdad\", \"letmein@!\", \"qwerty\", \"abc123\", \"trustno1\", \"Ilovesandy\", \"!!@@###123\", \"pl,mjytce!\", \"p@s\", \"lf\", \"1q2w3e4r\", \"letmein\", \"iloveyou\", \"password1\", \"1qaz2wsx\", \"qazwsx\", \"12345\", \"johnsp@ssw0rd\", \"meandmymonkey\", \"xboksrools\", \"qwertyuiop\", \"77777\", \"888888\", \"zaq1zaq1\", \"123qwe\", \"excaliburr!\", \"girlsrule!\", \"@cce$$granted\", \"iRulE!\", \"pewdepieftw1\", \"wtFstfUP\", \"admin\", \"master\", \"sunshinesuzy\", \"bobbyluvsdaBears!\", \"qwertyuiop\", \"w_uts_up\", \"n0uger\", \"aiden123\", \"william123\", \"sally123\", \"pirsquareD\", \"d0nutTreadonme\", \"weedmn\", \"MakeUSgr8\", \"USA#1\", \"FokiSiS\", \"Footbahl\", \"2#22#1985\", \"11111\", \"Dodgethis\"]\n",
    "total_passwords = len(passwords_received)\n",
    "\n",
    "# Calculate free passwords\n",
    "free_passwords = total_passwords - int(passwords_bought)\n",
    "\n",
    "print(free_passwords)"
   ]
  },
  {
   "cell_type": "markdown",
   "id": "880fc409-aec8-49d5-8500-8b55d8ce034b",
   "metadata": {},
   "source": [
    "Now you have some passwords that you can use to attempt a brute-force attack on a password protected account. Write a script that demonstrates how a brute force attack might work.\n",
    "\n",
    "For the sake of this exercise, assume the user's password is: 1qaz2wsx\n",
    "\n",
    "Your script should evaluate each one of the possible passwords. Output- \"No, try again\" when you hit a wrong password, and \"You're in!\" when you get it right. When you get it right, the script should stop running. This script should be automated so that it tries each password without you needing to enter it manually."
   ]
  },
  {
   "cell_type": "code",
   "execution_count": 61,
   "id": "07158754-4656-4894-841a-5c16137ac415",
   "metadata": {},
   "outputs": [
    {
     "name": "stdout",
     "output_type": "stream",
     "text": [
      "3asdad is not the password\n",
      "letmein@! is not the password\n",
      "qwerty is not the password\n",
      "abc123 is not the password\n",
      "trustno1 is not the password\n",
      "Ilovesandy is not the password\n",
      "!!@@###123 is not the password\n",
      "pl,mjytce! is not the password\n",
      "p@s is not the password\n",
      "lf is not the password\n",
      "1q2w3e4r is not the password\n",
      "letmein is not the password\n",
      "iloveyou is not the password\n",
      "password1 is not the password\n",
      "The correct password is 1qaz2wsx\n"
     ]
    }
   ],
   "source": [
    "#31c. Your code here:\n",
    "\n",
    "passwords_received = [\"3asdad\", \"letmein@!\", \"qwerty\", \"abc123\", \"trustno1\", \"Ilovesandy\", \"!!@@###123\", \"pl,mjytce!\", \"p@s\", \"lf\", \"1q2w3e4r\", \"letmein\", \"iloveyou\", \"password1\", \"1qaz2wsx\", \"qazwsx\", \"12345\", \"johnsp@ssw0rd\", \"meandmymonkey\", \"xboksrools\", \"qwertyuiop\", \"77777\", \"888888\", \"zaq1zaq1\", \"123qwe\", \"excaliburr!\", \"girlsrule!\", \"@cce$$granted\", \"iRulE!\", \"pewdepieftw1\", \"wtFstfUP\", \"admin\", \"master\", \"sunshinesuzy\", \"bobbyluvsdaBears!\", \"qwertyuiop\", \"w_uts_up\", \"n0uger\", \"aiden123\", \"william123\", \"sally123\", \"pirsquareD\", \"d0nutTreadonme\", \"weedmn\", \"MakeUSgr8\", \"USA#1\", \"FokiSiS\", \"Footbahl\", \"2#22#1985\", \"11111\", \"Dodgethis\"]\n",
    "\n",
    "for password in passwords_received:\n",
    "    if password == \"1qaz2wsx\" :\n",
    "        print(\"The correct password is 1qaz2wsx\")\n",
    "        break\n",
    "    else:\n",
    "        print(f\"{password} is not the password\")"
   ]
  },
  {
   "cell_type": "code",
   "execution_count": null,
   "id": "2568245e-9768-4e3e-8ad0-bc4757c57eb3",
   "metadata": {},
   "outputs": [],
   "source": []
  }
 ],
 "metadata": {
  "kernelspec": {
   "display_name": "Python 3 (ipykernel)",
   "language": "python",
   "name": "python3"
  },
  "language_info": {
   "codemirror_mode": {
    "name": "ipython",
    "version": 3
   },
   "file_extension": ".py",
   "mimetype": "text/x-python",
   "name": "python",
   "nbconvert_exporter": "python",
   "pygments_lexer": "ipython3",
   "version": "3.12.4"
  }
 },
 "nbformat": 4,
 "nbformat_minor": 5
}
