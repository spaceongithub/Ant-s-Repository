{
 "cells": [
  {
   "cell_type": "markdown",
   "id": "5546435c-c02f-4da1-b7be-2db0324ffb54",
   "metadata": {},
   "source": [
    "# HW 4:"
   ]
  },
  {
   "cell_type": "markdown",
   "id": "2399aab0-399d-4516-b379-d1acbc5b5a03",
   "metadata": {},
   "source": [
    "## Some Practice with Functions"
   ]
  },
  {
   "cell_type": "markdown",
   "id": "4dd98f0c-26ce-4211-8f70-691573a61365",
   "metadata": {},
   "source": [
    "### Using print() rather than returning a value"
   ]
  },
  {
   "cell_type": "markdown",
   "id": "ba3b6ab3-c6e3-4db1-ae08-6a55fa24fad8",
   "metadata": {},
   "source": [
    "1. (10pts) Write a function that checks the potential risk of conflict between two countries based on their military spending and diplomatic relations. The function should print a warning if both countries have high military spending (greater than 100 billion dollars) and their diplomatic relations are poor. Otherwise, it should print that relations are stable.\n",
    "\n",
    "Requirements:\n",
    "\n",
    "The function should print (not return) the result.\n",
    "\n",
    "The inputs will be:\n",
    "\n",
    "Country 1 name (str)\n",
    "\n",
    "Country 2 name (str)\n",
    "\n",
    "Military spending of Country 1 (int, in billion dollars)\n",
    "\n",
    "Military spending of Country 2 (int, in billion dollars)\n",
    "\n",
    "Diplomatic relations (str), either \"good\", \"neutral\", or \"poor\"\n",
    "\n",
    "**Task**: Define a function print_conflict_warning(country1, country2, military_spending1, military_spending2, diplomatic_relations) that prints:\n",
    "\n",
    "\"Warning: High risk of conflict between <country1> and <country2>.\" if military spending is high for both and diplomatic relations are poor.\n",
    "\"The relations between <country1> and <country2> are stable.\" otherwise.\n"
   ]
  },
  {
   "cell_type": "code",
   "execution_count": 22,
   "id": "8e9976af-3cdf-4ae6-aa88-c3c27e89602b",
   "metadata": {},
   "outputs": [],
   "source": [
    "#Your code here with an example:\n",
    "def print_conflict_analysis (country1, country2, military_spending1, military_spending2, diplomatic_relations):\n",
    "    \"\"\"This functions checks the potential risk of conflict between two countries based on their military spending and diplomatic relations\"\"\"\n",
    "    if military_spending1 > 100 and military_spending2 > 100 and diplomatic_relations == \"poor\":\n",
    "        print(f\"Warning: High risk of conflict between {country1} and {country2}.\")\n",
    "    else:\n",
    "        print(f\"The relations between {country1} and {country2} are stable.\")"
   ]
  },
  {
   "cell_type": "code",
   "execution_count": 23,
   "id": "4c622261-1e8e-4f98-926e-46aaefe2c82d",
   "metadata": {},
   "outputs": [
    {
     "name": "stdout",
     "output_type": "stream",
     "text": [
      "Warning: High risk of conflict between Israel and Palestine.\n",
      "The relations between Israel and Iran are stable.\n",
      "The relations between India and USA are stable.\n",
      "The relations between China and India are stable.\n"
     ]
    }
   ],
   "source": [
    "print_conflict_analysis(\"Israel\", \"Palestine\", 500, 101, \"poor\")\n",
    "print_conflict_analysis(\"Israel\", \"Iran\", 500, 300, \"neutral\")\n",
    "print_conflict_analysis(\"India\", \"USA\", 1000, 500, \"good\")\n",
    "print_conflict_analysis(\"China\", \"India\", 252, 72.9, \"poor\")"
   ]
  },
  {
   "cell_type": "markdown",
   "id": "86a97f80-2779-4c9e-bf77-ebe768ae8c32",
   "metadata": {},
   "source": [
    "## For the rest of these, you will return a value, rather than print()"
   ]
  },
  {
   "cell_type": "markdown",
   "id": "517bdb90-fd7d-4302-a6d6-80c66b0748d0",
   "metadata": {},
   "source": [
    "2.(5pts)Calculate Trade Balance.\n",
    "A country's trade balance is the difference between its exports and imports. Write a function that calculates and prints whether the country has a trade surplus, deficit, or balanced trade. Use the following data:\n",
    "\n",
    "Exports: 500 million dollars\n",
    "Imports: 600 million dollars\n",
    "\n",
    "Task: Define a function trade_balance(exports, imports) and use it to determine the trade balance."
   ]
  },
  {
   "cell_type": "code",
   "execution_count": 38,
   "id": "e24e260c-3614-4f8f-9cf7-c4eb3164ddfa",
   "metadata": {},
   "outputs": [],
   "source": [
    "#Your code here:\n",
    "def trade_balance (exports, imports):\n",
    "    \"\"\"This function returns the trade balance for a country given the export and import value\"\"\"\n",
    "    balance = exports - imports\n",
    "    if balance > 0:\n",
    "        return f\"Country has a trade surplus worth {balance} million dollars\"\n",
    "    elif balance < 0:\n",
    "        return f\"Country has a trade deficit worth {-balance} million dollars\"\n",
    "    else:\n",
    "        return f\"Country has a balanced trade\""
   ]
  },
  {
   "cell_type": "code",
   "execution_count": 39,
   "id": "c71a6a6e-710a-4ae9-a385-d79a1f781f33",
   "metadata": {},
   "outputs": [
    {
     "data": {
      "text/plain": [
       "'Country has a trade deficit worth 100 million dollars'"
      ]
     },
     "execution_count": 39,
     "metadata": {},
     "output_type": "execute_result"
    }
   ],
   "source": [
    "trade_balance(500, 600)"
   ]
  },
  {
   "cell_type": "code",
   "execution_count": 50,
   "id": "b8526946-dcb3-4f52-ae49-02374cf1da80",
   "metadata": {},
   "outputs": [
    {
     "data": {
      "text/plain": [
       "'Country has a trade deficit worth 100 million dollars'"
      ]
     },
     "execution_count": 50,
     "metadata": {},
     "output_type": "execute_result"
    }
   ],
   "source": [
    "exports1 = 500\n",
    "imports1 = 600\n",
    "trade_balance(exports1, imports1)"
   ]
  },
  {
   "cell_type": "code",
   "execution_count": 35,
   "id": "dcb503fe-c7c8-4cb5-9a5b-8400661b18eb",
   "metadata": {},
   "outputs": [
    {
     "data": {
      "text/plain": [
       "'Country has a trade surplus worth 100 million dollars'"
      ]
     },
     "execution_count": 35,
     "metadata": {},
     "output_type": "execute_result"
    }
   ],
   "source": [
    "trade_balance(600, 500)"
   ]
  },
  {
   "cell_type": "code",
   "execution_count": 37,
   "id": "c6da5ad9-2ee3-4a1a-b86e-ad00113d0e0d",
   "metadata": {},
   "outputs": [
    {
     "data": {
      "text/plain": [
       "'Country has a balanced trade'"
      ]
     },
     "execution_count": 37,
     "metadata": {},
     "output_type": "execute_result"
    }
   ],
   "source": [
    "trade_balance(500, 500)"
   ]
  },
  {
   "cell_type": "markdown",
   "id": "b8e04211-db56-4ae8-bdad-17cd74f99185",
   "metadata": {},
   "source": [
    "3.(5pts) Compare Country Populations\n",
    "\n",
    "Write a function that compares the populations of two countries and prints which country has a larger population, or if they are equal. Use the following population data:\n",
    "\n",
    "India: 1.4 billion\n",
    "USA: 331 million\n",
    "\n",
    "Task: Define a function compare_populations(country1, pop1, country2, pop2) and use it to compare India and the USA."
   ]
  },
  {
   "cell_type": "code",
   "execution_count": 42,
   "id": "235fd896-3a8f-4607-a8c0-c952ba30ced2",
   "metadata": {},
   "outputs": [],
   "source": [
    "#Your code here: \n",
    "def compare_populations(country1, pop1, country2, pop2):\n",
    "    \"\"\"This function compares the populations of two countries and prints which country has a larger population, or if they are equal\"\"\"\n",
    "    pop_diff = pop1 - pop2\n",
    "    if pop_diff > 0:\n",
    "        return f\"{country1} has a larger population compared to {country2} by {pop_diff} million people.\"\n",
    "    elif pop_diff < 0:\n",
    "        return f\"{country2} has a larger population compared to {country1} by {pop_diff} million people.\"\n",
    "    else:\n",
    "        return f\"{country1} and {country2} have the same population size.\""
   ]
  },
  {
   "cell_type": "code",
   "execution_count": 43,
   "id": "eff8c7e4-5330-48f8-abf0-71e37feb7082",
   "metadata": {},
   "outputs": [
    {
     "data": {
      "text/plain": [
       "'India has a larger population compared to USA by 1069 million people.'"
      ]
     },
     "execution_count": 43,
     "metadata": {},
     "output_type": "execute_result"
    }
   ],
   "source": [
    "compare_populations(\"India\", 1400, \"USA\", 331)"
   ]
  },
  {
   "cell_type": "code",
   "execution_count": 51,
   "id": "bad3c4b8-8187-4269-a87c-0705a1a11cee",
   "metadata": {},
   "outputs": [
    {
     "data": {
      "text/plain": [
       "'India has a larger population compared to USA by 1069 million people.'"
      ]
     },
     "execution_count": 51,
     "metadata": {},
     "output_type": "execute_result"
    }
   ],
   "source": [
    "india_pop = 1400  # 1.4 billion in millions\n",
    "usa_pop = 331\n",
    "compare_populations(\"India\", india_pop, \"USA\", usa_pop)"
   ]
  },
  {
   "cell_type": "markdown",
   "id": "6c0eb686-eda4-4811-9c2c-3c9edbbae505",
   "metadata": {},
   "source": [
    "4.(5pts) Count International Organization Memberships\n",
    "Write a function that counts how many international organizations a country is a member of. Use the following data for two countries:\n",
    "m\n",
    "USA memberships: [\"UN\", \"NATO\", \"WTO\"]\n",
    "France memberships: [\"UN\", \"EU\", \"WTO\"]\n",
    "\n",
    "Task: Define a function count_memberships(country, organizations) that returns the number of memberships for a country."
   ]
  },
  {
   "cell_type": "code",
   "execution_count": 47,
   "id": "7ef9c244-d24f-42ca-96c2-e067c557222d",
   "metadata": {},
   "outputs": [],
   "source": [
    "#Your code here:\n",
    "def count_memberships(country, organizations):\n",
    "    \"\"\"This function counts how many international organizations a country is a member of\"\"\"\n",
    "    org_count = len(organizations)\n",
    "    return f\"{country} is a member of {org_count} international organizations.\""
   ]
  },
  {
   "cell_type": "code",
   "execution_count": 48,
   "id": "f9489028-cdcb-4d0b-b575-34f4884df467",
   "metadata": {},
   "outputs": [
    {
     "data": {
      "text/plain": [
       "'USA is a member of 3 international organizations.'"
      ]
     },
     "execution_count": 48,
     "metadata": {},
     "output_type": "execute_result"
    }
   ],
   "source": [
    "count_memberships(\"USA\", [\"UN\", \"NATO\", \"WTO\"]) "
   ]
  },
  {
   "cell_type": "code",
   "execution_count": 52,
   "id": "58658f60-0055-4bb0-872e-6646575e970e",
   "metadata": {},
   "outputs": [
    {
     "data": {
      "text/plain": [
       "'USA is a member of 3 international organizations.'"
      ]
     },
     "execution_count": 52,
     "metadata": {},
     "output_type": "execute_result"
    }
   ],
   "source": [
    "usa_memberships = [\"UN\", \"NATO\", \"WTO\"]\n",
    "count_memberships(\"USA\", usa_memberships)"
   ]
  },
  {
   "cell_type": "code",
   "execution_count": 49,
   "id": "e08aba5d-d487-4783-93bd-e75d3c9dd69e",
   "metadata": {},
   "outputs": [
    {
     "data": {
      "text/plain": [
       "'France is a member of 3 international organizations.'"
      ]
     },
     "execution_count": 49,
     "metadata": {},
     "output_type": "execute_result"
    }
   ],
   "source": [
    "count_memberships(\"France\", [\"UN\", \"EU\", \"WTO\"])"
   ]
  },
  {
   "cell_type": "code",
   "execution_count": 53,
   "id": "f339a9d2-0437-4bc3-aa40-559bc71379c7",
   "metadata": {},
   "outputs": [
    {
     "data": {
      "text/plain": [
       "'France is a member of 3 international organizations.'"
      ]
     },
     "execution_count": 53,
     "metadata": {},
     "output_type": "execute_result"
    }
   ],
   "source": [
    "france_memberships = [\"UN\", \"EU\", \"WTO\"]\n",
    "count_memberships(\"France\", france_memberships)"
   ]
  },
  {
   "cell_type": "markdown",
   "id": "9730da75-756b-4b0f-97b3-49db7b17055c",
   "metadata": {},
   "source": [
    "5.(5pts) Diplomatic Relations\n",
    "Diplomatic relations between two countries can be predicted based on trade volume and the number of diplomatic visits. Write a function that takes trade volume (in billion dollars) and the number of diplomatic visits and prints a prediction. Use the following rule:\n",
    "\n",
    "If trade volume > 5000 and visits > 10, predict strong relations.\n",
    "Otherwise, predict moderate or weak relations.\n",
    "\n",
    "Task: Define a function predict_relations(trade_volume, diplomatic_visits) and use it to make a prediction for trade volume of 6000 billion dollars and 12 visits."
   ]
  },
  {
   "cell_type": "code",
   "execution_count": 56,
   "id": "de1ef136-69e5-45aa-b0fc-868c786c1d86",
   "metadata": {},
   "outputs": [],
   "source": [
    "#Your code here:\n",
    "def predict_relations(trade_volume, diplomatic_visits):\n",
    "    \"\"\"This function predicts diplomatic relations between two countries based on trade volume (in billion dollars) and the number of diplomatic visits\"\"\"\n",
    "    if trade_volume > 5000 and diplomatic_visits > 10:\n",
    "        return f\"Prediction: Strong diplomatic relations\"\n",
    "    else:\n",
    "        return f\"Prediction: Moderate or weak diplomatic relations\""
   ]
  },
  {
   "cell_type": "code",
   "execution_count": 58,
   "id": "8cae94c6-1dcb-489e-be57-39a675adc4cc",
   "metadata": {},
   "outputs": [
    {
     "data": {
      "text/plain": [
       "'Prediction: Strong diplomatic relations'"
      ]
     },
     "execution_count": 58,
     "metadata": {},
     "output_type": "execute_result"
    }
   ],
   "source": [
    "predict_relations(6000, 12)"
   ]
  },
  {
   "cell_type": "code",
   "execution_count": 57,
   "id": "8709fefd-61f4-4f39-980a-60de785afae1",
   "metadata": {},
   "outputs": [
    {
     "data": {
      "text/plain": [
       "'Prediction: Strong diplomatic relations'"
      ]
     },
     "execution_count": 57,
     "metadata": {},
     "output_type": "execute_result"
    }
   ],
   "source": [
    "trade_volume = 6000  # billion dollars\n",
    "diplomatic_visits = 12\n",
    "\n",
    "predict_relations(trade_volume, diplomatic_visits)"
   ]
  },
  {
   "cell_type": "markdown",
   "id": "6f7dbe0a-5df6-43e4-bf5d-a2572282462e",
   "metadata": {},
   "source": [
    "6.(5pts)Summarize Human Development Index (HDI)\n",
    "Write a function that categorizes a country’s Human Development Index (HDI) score into \"very high\", \"high\", \"medium\", or \"low\" based on the following ranges:\n",
    "\n",
    "Very high: HDI ≥ 0.8\n",
    "High: 0.7 ≤ HDI < 0.8\n",
    "Medium: 0.55 ≤ HDI < 0.7\n",
    "Low: HDI < 0.55\n",
    "Use the following data:\n",
    "\n",
    "Norway HDI: 0.953\n",
    "Task: Define a function hdi_summary(country, hdi) that prints the category for a given country and HDI score.\n"
   ]
  },
  {
   "cell_type": "code",
   "execution_count": 59,
   "id": "5ce12094-c467-4233-8a20-9692f68c74c3",
   "metadata": {},
   "outputs": [],
   "source": [
    "#Your code here:\n",
    "def hdi_summary(country, hdi):\n",
    "    \"This function ategorizes a country’s Human Development Index (HDI) score into 'very high', 'high', 'medium', or 'low' based on a range scale\"\"\"\n",
    "    if hdi >= 0.8:\n",
    "        category = \"very high\"\n",
    "    elif 0.7 <= hdi < 0.8:\n",
    "        category = \"high\"\n",
    "    elif 0.55 <= hdi < 0.7:\n",
    "        category = \"medium\"\n",
    "    else:\n",
    "        category = \"low\"\n",
    "\n",
    "    return f\"{country}'s HDI of {hdi} is categorized as {category} human development.\""
   ]
  },
  {
   "cell_type": "code",
   "execution_count": 60,
   "id": "c8f36eb4-5fcc-4bfb-a0ce-220c451d92ac",
   "metadata": {},
   "outputs": [
    {
     "data": {
      "text/plain": [
       "\"Norway's HDI of 0.953 is categorized as very high human development.\""
      ]
     },
     "execution_count": 60,
     "metadata": {},
     "output_type": "execute_result"
    }
   ],
   "source": [
    "hdi_summary(\"Norway\", 0.953)"
   ]
  },
  {
   "cell_type": "markdown",
   "id": "d26d6e73-c330-4953-97b5-f9d2f0ab358a",
   "metadata": {},
   "source": [
    "7.(5pts) Find Largest Economy\n",
    "Given the GDPs of three countries, write a function that determines which country has the largest economy. Use the following GDP data (in billion dollars):\n",
    "\n",
    "USA: 21,000\n",
    "China: 14,000\n",
    "Germany: 4,200\n",
    "\n",
    "Task: Define a function largest_economy(gdp_data) that takes a dictionary with country names as keys and GDP as values, then prints the largest economy.\n"
   ]
  },
  {
   "cell_type": "code",
   "execution_count": 75,
   "id": "9977c471-f382-419d-a0d8-99e1d99af08d",
   "metadata": {},
   "outputs": [],
   "source": [
    "#Your code here:\n",
    "def largest_economy(gdp_data):\n",
    "    \"\"\"This function determines which country has the largest economy\"\"\"\n",
    "    largest_gdp = max(gdp_data.values())\n",
    "    largest_country = max(gdp_data, key=gdp_data.get)\n",
    "    return f\"The largest economy is {largest_country} with a GDP of ${largest_gdp:,} billion.\"\n",
    "    "
   ]
  },
  {
   "cell_type": "code",
   "execution_count": 76,
   "id": "e83271be-0f34-4719-8b4a-51e0d6e636b3",
   "metadata": {},
   "outputs": [
    {
     "data": {
      "text/plain": [
       "'The largest economy is USA with a GDP of $21,000 billion.'"
      ]
     },
     "execution_count": 76,
     "metadata": {},
     "output_type": "execute_result"
    }
   ],
   "source": [
    "gdp_data = {\"USA\": 21000, \"China\": 14000, \"Germany\": 4200}\n",
    "\n",
    "largest_economy(gdp_data)"
   ]
  },
  {
   "cell_type": "markdown",
   "id": "131c325c-b5c2-49c8-bc90-afdd8ec49b80",
   "metadata": {},
   "source": [
    "8.(5pts) Sanction Impact on Economy\n",
    "A country’s economy shrinks after sanctions are imposed. Write a function to calculate the percentage reduction in GDP. Use the following data:\n",
    "\n",
    "Original GDP: 1000 billion dollars\n",
    "GDP after sanctions: 850 billion dollars\n",
    "\n",
    "Task: Define a function sanction_impact(original_gdp, post_sanction_gdp) and use it to calculate the impact of sanctions.\n"
   ]
  },
  {
   "cell_type": "code",
   "execution_count": 84,
   "id": "d8c67b65-5adf-4b3f-af03-dd0e89d95507",
   "metadata": {},
   "outputs": [],
   "source": [
    "#Your code here:\n",
    "def sanction_impact(original_gdp, post_sanction_gdp):\n",
    "    \"\"\"This function calculates the impact of sanctions on a country's economy\"\"\"\n",
    "    diff_gdp = original_gdp - post_sanction_gdp\n",
    "    perc_change = (diff_gdp/original_gdp) * 100\n",
    "    return f\"GDP reduction: {diff_gdp} billion dollars and Percentage reduction: {perc_change} %\"\n"
   ]
  },
  {
   "cell_type": "code",
   "execution_count": 85,
   "id": "93c46aec-6f45-492f-9053-8e99a3b63996",
   "metadata": {},
   "outputs": [
    {
     "data": {
      "text/plain": [
       "'GDP reduction: 150 billion dollars and Percentage reduction: 15.0 %'"
      ]
     },
     "execution_count": 85,
     "metadata": {},
     "output_type": "execute_result"
    }
   ],
   "source": [
    "sanction_impact(1000, 850)"
   ]
  },
  {
   "cell_type": "code",
   "execution_count": 86,
   "id": "aae94bf6-e456-4a44-80eb-e7cba023b24c",
   "metadata": {},
   "outputs": [
    {
     "data": {
      "text/plain": [
       "'GDP reduction: 150 billion dollars and Percentage reduction: 15.0 %'"
      ]
     },
     "execution_count": 86,
     "metadata": {},
     "output_type": "execute_result"
    }
   ],
   "source": [
    "original_gdp = 1000  # billion dollars\n",
    "post_sanction_gdp = 850  # billion dollars\n",
    "sanction_impact(original_gdp, post_sanction_gdp)"
   ]
  },
  {
   "cell_type": "markdown",
   "id": "b8b02e02-5965-4332-8fa2-3961793e7a7e",
   "metadata": {},
   "source": [
    "### Passing a function to another function. We can pass the return value of a function to another function. Check out the sample below"
   ]
  },
  {
   "cell_type": "markdown",
   "id": "9aa91de0-8cf6-4084-937d-d0b0200b065b",
   "metadata": {},
   "source": [
    "Calculate Diplomatic Influence: return a value, and print from a function \n",
    "\n",
    "A country’s diplomatic influence is determined by its economic power and military strength. Write two functions:\n",
    "\n",
    "calculate_influence(economy_size, military_spending): This function calculates a country’s influence score by adding its economy size (GDP in billions) and military power (in billions).\n",
    "\n",
    "compare_influence(influence1, influence2): This function compares the influence of two countries and prints which country has more influence or if they are equal.\n",
    "\n",
    "You will pass the influence score from the first function to the second function for comparison.\n",
    "\n",
    "Define calculate_influence(economy_size, military_spending) that returns the influence score (sum of economy size and military power).\n",
    "Define compare_influence(influence1, influence2) that compares two countries' influence and prints the result.\n"
   ]
  },
  {
   "cell_type": "code",
   "execution_count": 87,
   "id": "d46522b0-14b5-4d59-9fb3-4dc0ae4c5831",
   "metadata": {},
   "outputs": [
    {
     "name": "stdout",
     "output_type": "stream",
     "text": [
      "Country 1 has more diplomatic influence.\n"
     ]
    }
   ],
   "source": [
    "#Sample code here:\n",
    "#US: 916 billion on military, with a total economy size of 28.78 trillion\n",
    "#Germany: 66.8 billion on military, economy size of 4.08 trillion\n",
    "\n",
    "def calculate_influence(economy_size, military_power):\n",
    "    \"\"\"\n",
    "    Calculates the diplomatic influence of a country based on its economy size and military power.\n",
    "\n",
    "    Parameters:\n",
    "    economy_size (float): The size of the economy in billion dollars.\n",
    "    military_power (float): The military power in billion dollars.\n",
    "\n",
    "    Returns:\n",
    "    float: The total influence score, which is the sum of economy size and military power.\n",
    "    \"\"\"\n",
    "    return economy_size + military_power\n",
    "\n",
    "def compare_influence(economy_size1, military_power1, economy_size2, military_power2):\n",
    "    \"\"\"\n",
    "    Compares the diplomatic influence of two countries based on their economy size and military power.\n",
    "\n",
    "    Parameters:\n",
    "    economy_size1 (float): The size of the first country's economy in billion dollars.\n",
    "    military_power1 (float): The military power of the first country in billion dollars.\n",
    "    economy_size2 (float): The size of the second country's economy in billion dollars.\n",
    "    military_power2 (float): The military power of the second country in billion dollars.\n",
    "\n",
    "    Prints:\n",
    "    str: A message indicating which country has more diplomatic influence, or if both are equal.\n",
    "    \"\"\"\n",
    "    #here we are calling the function within the new function and saving the output to variables\n",
    "    influence1 = calculate_influence(economy_size1, military_power1)\n",
    "    influence2 = calculate_influence(economy_size2, military_power2)\n",
    "    \n",
    "    if influence1 > influence2:\n",
    "        print(\"Country 1 has more diplomatic influence.\")\n",
    "    elif influence2 > influence1:\n",
    "        print(\"Country 2 has more diplomatic influence.\")\n",
    "    else:\n",
    "        print(\"Both countries have equal diplomatic influence.\")\n",
    "\n",
    "# Example usage\n",
    "compare_influence(916, 28.78, 66.8, 4.08)\n",
    "\n",
    "\n"
   ]
  },
  {
   "cell_type": "markdown",
   "id": "85e59e80-c705-4e59-9bbc-8cbccd78a4f9",
   "metadata": {},
   "source": [
    "## Some for loops and comprehensions"
   ]
  },
  {
   "cell_type": "markdown",
   "id": "88034e0d-bd12-4bf7-adcd-51913d8e750b",
   "metadata": {},
   "source": [
    "Here is a list of tuples with a country, and it's annual growth in GDP:"
   ]
  },
  {
   "cell_type": "code",
   "execution_count": 88,
   "id": "fc412ac7-fc4b-4ab5-8428-eb95123aac49",
   "metadata": {},
   "outputs": [],
   "source": [
    "country_growth_data_list = [(\"CountryA\", 3.2), (\"CountryB\", 6.5), (\"CountryC\", 2.8), (\"CountryD\", 5.4)]\n"
   ]
  },
  {
   "cell_type": "markdown",
   "id": "183c0605-cbff-4eca-a5ca-7b981be55ad5",
   "metadata": {},
   "source": [
    "\n",
    "1. Create An empty list, growth_category_list, is initialized to store the results.\n",
    "2. For each country in the list, a tuple of the country name and its corresponding category is appended to growth_category_list.\n",
    "3. The result is a list of tuples where each tuple contains the country name and its growth category."
   ]
  },
  {
   "cell_type": "code",
   "execution_count": 89,
   "id": "232f1d28-b587-4a6e-925b-365ef5adaeb4",
   "metadata": {},
   "outputs": [
    {
     "name": "stdout",
     "output_type": "stream",
     "text": [
      "[('CountryA', 'Moderate'), ('CountryB', 'High'), ('CountryC', 'Moderate'), ('CountryD', 'High')]\n"
     ]
    }
   ],
   "source": [
    "# Initialize an empty list to store the results\n",
    "growth_category_list = []\n",
    "\n",
    "# Iterate over each item in the country_growth_data_list\n",
    "for country, growth_rate in country_growth_data_list:\n",
    "    if growth_rate > 5:\n",
    "        growth_category_list.append((country, \"High\"))\n",
    "    else:\n",
    "        growth_category_list.append((country, \"Moderate\"))\n",
    "\n",
    "# Print the result\n",
    "print(growth_category_list)"
   ]
  },
  {
   "cell_type": "markdown",
   "id": "8f645605-5e10-4abf-93f6-b1aa83b55a8a",
   "metadata": {},
   "source": [
    "9.(5pts) Rewrite the previous as a list comprehension and print the results"
   ]
  },
  {
   "cell_type": "code",
   "execution_count": 90,
   "id": "d7899ebf-2149-4c60-b368-1e2344381cd6",
   "metadata": {},
   "outputs": [
    {
     "name": "stdout",
     "output_type": "stream",
     "text": [
      "[('CountryA', 'Moderate'), ('CountryB', 'High'), ('CountryC', 'Moderate'), ('CountryD', 'High')]\n"
     ]
    }
   ],
   "source": [
    "#Your code here:\n",
    "country_growth_data_list = [(\"CountryA\", 3.2), (\"CountryB\", 6.5), (\"CountryC\", 2.8), (\"CountryD\", 5.4)]\n",
    "\n",
    "growth_category_list = [(country, \"High\" if growth_rate > 5 else \"Moderate\") for country, growth_rate in country_growth_data_list]\n",
    "\n",
    "print(growth_category_list)"
   ]
  },
  {
   "cell_type": "markdown",
   "id": "906ade3b-1cf8-48b9-a3a5-29a7c2770f4c",
   "metadata": {},
   "source": [
    "10.(5pts) Here is the same data as a dictionary"
   ]
  },
  {
   "cell_type": "code",
   "execution_count": 91,
   "id": "ec82039d-9b55-4b58-83a2-79ab6ceb2f97",
   "metadata": {},
   "outputs": [],
   "source": [
    "country_growth_data = {\"CountryA\": 3.2, \"CountryB\": 6.5, \"CountryC\": 2.8, \"CountryD\": 5.4}"
   ]
  },
  {
   "cell_type": "markdown",
   "id": "252700b2-cba9-49ee-a42e-20fec70d1585",
   "metadata": {},
   "source": [
    "11.(5pts) Write a for loop that iterates through the dictionary and stores the results in a growth_category dictionary with key :value pairs"
   ]
  },
  {
   "cell_type": "code",
   "execution_count": 93,
   "id": "ca2d3ad2-4d00-4965-b543-870261622f53",
   "metadata": {},
   "outputs": [
    {
     "name": "stdout",
     "output_type": "stream",
     "text": [
      "{'CountryA': 'Moderate', 'CountryB': 'High', 'CountryC': 'Moderate', 'CountryD': 'High'}\n"
     ]
    }
   ],
   "source": [
    "#Your code here:\n",
    "growth_category = {}\n",
    "\n",
    "for country, growth_rate in country_growth_data.items():\n",
    "    if growth_rate > 5:\n",
    "        growth_category[country] = \"High\"\n",
    "    else:\n",
    "        growth_category[country] = \"Moderate\"\n",
    "\n",
    "print(growth_category)"
   ]
  },
  {
   "cell_type": "markdown",
   "id": "c768ea1f-47f8-47bc-b383-0e383a500377",
   "metadata": {},
   "source": [
    "12. (5pts)Now try it as a dictionary comprehnsion! \n"
   ]
  },
  {
   "cell_type": "code",
   "execution_count": 96,
   "id": "94b224cf-d859-4fea-9926-2a24a451ee20",
   "metadata": {},
   "outputs": [
    {
     "name": "stdout",
     "output_type": "stream",
     "text": [
      "{'CountryA': 'Moderate', 'CountryB': 'High', 'CountryC': 'Moderate', 'CountryD': 'High'}\n"
     ]
    }
   ],
   "source": [
    "#Your code here:\n",
    "country_growth_data = {\"CountryA\": 3.2, \"CountryB\": 6.5, \"CountryC\": 2.8, \"CountryD\": 5.4}\n",
    "\n",
    "growth_category_dict = {country: (\"High\" if growth_rate > 5 else \"Moderate\") for country, growth_rate in country_growth_data.items()}\n",
    "\n",
    "print(growth_category_dict)\n"
   ]
  },
  {
   "cell_type": "markdown",
   "id": "fa0b626d-9dab-4477-9f0d-e6f294a96994",
   "metadata": {},
   "source": [
    "13.(5pts) How about a set comprehension for Alex! "
   ]
  },
  {
   "cell_type": "code",
   "execution_count": 97,
   "id": "1fd14eb7-b58d-4ac4-8521-a09549d57cb9",
   "metadata": {},
   "outputs": [
    {
     "name": "stdout",
     "output_type": "stream",
     "text": [
      "{'Germany', 'Brazil'}\n"
     ]
    }
   ],
   "source": [
    "\n",
    "# Define a set of countries\n",
    "countries_set = {\"USA\", \"India\", \"Germany\", \"Brazil\", \"China\"}\n",
    "\n",
    "# Initialize an empty set to store countries with names longer than 5 characters\n",
    "long_name_countries = set()\n",
    "\n",
    "# For loop to iterate over the set and add countries with names longer than 5 characters\n",
    "for country in countries_set:\n",
    "    if len(country) > 5:\n",
    "        long_name_countries.add(country)\n",
    "\n",
    "# Print the result\n",
    "print(long_name_countries)\n"
   ]
  },
  {
   "cell_type": "code",
   "execution_count": 99,
   "id": "a8eb6388-6a28-4150-ba82-13eb1babf155",
   "metadata": {},
   "outputs": [
    {
     "name": "stdout",
     "output_type": "stream",
     "text": [
      "{'Germany', 'Brazil'}\n"
     ]
    }
   ],
   "source": [
    "# Now as a set comprehension! \n",
    "#Your code here:\n",
    "countries_set = {\"USA\", \"India\", \"Germany\", \"Brazil\", \"China\"}\n",
    "\n",
    "long_name_countries = set(country for country in countries_set if len(country) > 5)\n",
    "\n",
    "print(long_name_countries)"
   ]
  },
  {
   "cell_type": "markdown",
   "id": "d7e24e7e-8bf2-444e-a136-8f434f4a21be",
   "metadata": {},
   "source": [
    "## Translating Sentences:\n",
    "14.(5pts) Write a function that translates sentences. The function takes two arguements, the sentence to be translated and the targeted language and returns the translated sentence. Use the following sentence and translate it to the language of your choice:\n",
    "    \n",
    "\"Make a career of humanity. Commit yourself to the noble struggle for equal rights. You will make a better person of yourself, a greater nation of your country, and a finer world to live in.\"\n"
   ]
  },
  {
   "cell_type": "code",
   "execution_count": 101,
   "id": "8dd12622-57a0-4147-839b-7947210e025f",
   "metadata": {},
   "outputs": [
    {
     "name": "stdout",
     "output_type": "stream",
     "text": [
      "Requirement already satisfied: googletrans==4.0.0-rc1 in c:\\users\\hp\\anaconda\\lib\\site-packages (4.0.0rc1)\n",
      "Requirement already satisfied: httpx==0.13.3 in c:\\users\\hp\\anaconda\\lib\\site-packages (from googletrans==4.0.0-rc1) (0.13.3)\n",
      "Requirement already satisfied: certifi in c:\\users\\hp\\anaconda\\lib\\site-packages (from httpx==0.13.3->googletrans==4.0.0-rc1) (2024.6.2)\n",
      "Requirement already satisfied: hstspreload in c:\\users\\hp\\anaconda\\lib\\site-packages (from httpx==0.13.3->googletrans==4.0.0-rc1) (2024.9.1)\n",
      "Requirement already satisfied: sniffio in c:\\users\\hp\\anaconda\\lib\\site-packages (from httpx==0.13.3->googletrans==4.0.0-rc1) (1.3.0)\n",
      "Requirement already satisfied: chardet==3.* in c:\\users\\hp\\anaconda\\lib\\site-packages (from httpx==0.13.3->googletrans==4.0.0-rc1) (3.0.4)\n",
      "Requirement already satisfied: idna==2.* in c:\\users\\hp\\anaconda\\lib\\site-packages (from httpx==0.13.3->googletrans==4.0.0-rc1) (2.10)\n",
      "Requirement already satisfied: rfc3986<2,>=1.3 in c:\\users\\hp\\anaconda\\lib\\site-packages (from httpx==0.13.3->googletrans==4.0.0-rc1) (1.5.0)\n",
      "Requirement already satisfied: httpcore==0.9.* in c:\\users\\hp\\anaconda\\lib\\site-packages (from httpx==0.13.3->googletrans==4.0.0-rc1) (0.9.1)\n",
      "Requirement already satisfied: h11<0.10,>=0.8 in c:\\users\\hp\\anaconda\\lib\\site-packages (from httpcore==0.9.*->httpx==0.13.3->googletrans==4.0.0-rc1) (0.9.0)\n",
      "Requirement already satisfied: h2==3.* in c:\\users\\hp\\anaconda\\lib\\site-packages (from httpcore==0.9.*->httpx==0.13.3->googletrans==4.0.0-rc1) (3.2.0)\n",
      "Requirement already satisfied: hyperframe<6,>=5.2.0 in c:\\users\\hp\\anaconda\\lib\\site-packages (from h2==3.*->httpcore==0.9.*->httpx==0.13.3->googletrans==4.0.0-rc1) (5.2.0)\n",
      "Requirement already satisfied: hpack<4,>=3.0 in c:\\users\\hp\\anaconda\\lib\\site-packages (from h2==3.*->httpcore==0.9.*->httpx==0.13.3->googletrans==4.0.0-rc1) (3.0.0)\n"
     ]
    }
   ],
   "source": [
    "#Your code here:\n",
    "!pip install googletrans==4.0.0-rc1\n",
    "from googletrans import Translator\n",
    "\n",
    "def google_trans(sentence, target_lang):\n",
    "    \"\"\"This function translates a given sentence to the required target language\"\"\"\n",
    "    translator = Translator()\n",
    "    translated = translator.translate(sentence, dest=target_lang)\n",
    "    print(translated.text)"
   ]
  },
  {
   "cell_type": "code",
   "execution_count": 102,
   "id": "6ee618a5-ec5c-488b-9cf1-0c55652f7161",
   "metadata": {},
   "outputs": [
    {
     "name": "stdout",
     "output_type": "stream",
     "text": [
      "Hacer una carrera de la humanidad.Comprométate con la noble lucha por la igualdad de derechos.Harás una mejor persona de ti mismo, una nación más grande de tu país y un mundo más fino para vivir\n"
     ]
    }
   ],
   "source": [
    "sentence = \"Make a career of humanity. Commit yourself to the noble struggle for equal rights. You will make a better person of yourself, a greater nation of your country, and a finer world to live in\"\n",
    "target_lang = \"es\"\n",
    "\n",
    "google_trans(sentence, target_lang)"
   ]
  },
  {
   "cell_type": "markdown",
   "id": "8d374201-8c25-4858-b189-ba7336436696",
   "metadata": {},
   "source": [
    " ## 15 (25pts) PIZZA PROBLEM\n",
    "You are super motivated to serve your eventual computer overlords and prove your fealty to them, so you offer, free of charge, to help Elm City Pizza, a local Pizza company, write a script to take online pizza orders.\n",
    "\n",
    "Write a script that when a user enters the correct phone number (203-555-5555), prints \"Elm City Pizza, where we have never had a case of food poisoning that can be proved. My name is Hal, what's your name?\" The user then enters their name. The response should print \"Wow (users name) what an awesome name. What would you like to order?\" and then offers an input statement.\n",
    "\n",
    "The menu is limited. There is pizza and there are salads. If the user asks for anything else print \"Sorry,(users name) we don't have that.\" And then prompts them again with a different input statement, \"How about a super awesome pizza? Take a look at our menu, you'll find its delicious.\"\n",
    "\n",
    "By the way, Elm City Pizza is a vegan pizza restaraunt. Here is the Menu.\n",
    "\n",
    "MENU: Pizza: The Basic: Tomato and Cashew Cream Cheese Small: 6.95 Medium: 8.95 Large 10.90\n",
    "\n",
    "Pizza Toppings (each additional topping, .50): Shitake, Jackfruit, Sweet Potato, Hummus, Chickpeas, Lentils, Tofu, Edamame, Black Bean, Red Cabbage, Cucumber, Tomato, Jicama, Fried Green Tomatoes, Sun Dried Tomatoes,\n",
    "\n",
    "Salads: Vegan Caesar, Vegan Greek, Cucumber_Tumeric_Tomato Small: 4.95 Large: 6.95\n",
    "\n",
    "If the user asks for any meat or if their are any \"normal\" cheese (mozerella, parmesian) on their pizza, the response should be \"Sorry, (user name) but you need to do some more work evolving.\" and severs the contact (breaks the loop), forcing them to \"call back\" (enter the number again). But if they use the same name the output should read \"Sorry (user name) but that's too quick to evolve. Call us back when you have.\" For the evolved, take their order. Prompt the user with \"Anything else?\" They can add what they want until they input, \"No that's it.\" At that point summarize their order, and tell them how much it will cost.\n",
    "\n",
    "Test your code with different conditions. Make sure it cannot be broken by flawed or deliberately malicious user inputs."
   ]
  },
  {
   "cell_type": "code",
   "execution_count": 117,
   "id": "799101c9-9318-4a34-be5e-ce7c9e127b71",
   "metadata": {},
   "outputs": [
    {
     "name": "stdin",
     "output_type": "stream",
     "text": [
      "Please enter your phone number:  203-555-5555\n"
     ]
    },
    {
     "name": "stdout",
     "output_type": "stream",
     "text": [
      "Elm City Pizza, where we have never had a case of food poisoning that can be proved. My name is Hal, what's your name?\n"
     ]
    },
    {
     "name": "stdin",
     "output_type": "stream",
     "text": [
      " Ant\n"
     ]
    },
    {
     "name": "stdout",
     "output_type": "stream",
     "text": [
      "Wow Ant, what an awesome name. What would you like to order?\n"
     ]
    },
    {
     "name": "stdin",
     "output_type": "stream",
     "text": [
      " pizza\n",
      "What size? (small/medium/large):  small\n"
     ]
    },
    {
     "name": "stdout",
     "output_type": "stream",
     "text": [
      "Small pizza added. Base cost: $6.95\n"
     ]
    },
    {
     "name": "stdin",
     "output_type": "stream",
     "text": [
      "Any toppings? (Enter topping or 'done'):  shitake\n"
     ]
    },
    {
     "name": "stdout",
     "output_type": "stream",
     "text": [
      "Added Shitake. Cost: $0.50\n"
     ]
    },
    {
     "name": "stdin",
     "output_type": "stream",
     "text": [
      "Any toppings? (Enter topping or 'done'):  done\n",
      "Anything else? (yes/no):  no\n"
     ]
    },
    {
     "name": "stdout",
     "output_type": "stream",
     "text": [
      "\n",
      "Your order summary:\n",
      "- small pizza\n",
      "- Shitake\n",
      "\n",
      "Total cost: $7.45\n"
     ]
    },
    {
     "name": "stdin",
     "output_type": "stream",
     "text": [
      "Simulate another call? (yes/no):  no\n"
     ]
    },
    {
     "name": "stdout",
     "output_type": "stream",
     "text": [
      "Thank you for using Elm City Pizza ordering system!\n"
     ]
    }
   ],
   "source": [
    "def take_order():\n",
    "    menu = {\n",
    "        \"pizza\": {\n",
    "            \"small\": 6.95,\n",
    "            \"medium\": 8.95,\n",
    "            \"large\": 10.90\n",
    "        },\n",
    "        \"toppings\": [\n",
    "            \"Shitake\", \"Jackfruit\", \"Sweet Potato\", \"Hummus\", \"Chickpeas\", \n",
    "            \"Lentils\", \"Tofu\", \"Edamame\", \"Black Bean\", \"Red Cabbage\", \n",
    "            \"Cucumber\", \"Tomato\", \"Jicama\", \"Fried Green Tomatoes\", \"Sun Dried Tomatoes\"\n",
    "        ],\n",
    "        \"salads\": {\n",
    "            \"small\": 4.95,\n",
    "            \"large\": 6.95\n",
    "        }\n",
    "    }\n",
    "    \n",
    "    non_vegan = [\"meat\", \"cheese\", \"mozzarella\", \"parmesan\"]\n",
    "    order = []\n",
    "    total_cost = 0\n",
    "    rejected_users = set()  # Set to store names of rejected users\n",
    "    \n",
    "    while True:\n",
    "        phone = input(\"Please enter your phone number: \")\n",
    "        if phone == \"203-555-5555\":\n",
    "            print(\"Elm City Pizza, where we have never had a case of food poisoning that can be proved. My name is Hal, what's your name?\")\n",
    "            name = input()\n",
    "            if name in rejected_users:\n",
    "                print(f\"Sorry {name}, but that's too quick to evolve. Call us back when you have.\")\n",
    "                continue\n",
    "            print(f\"Wow {name}, what an awesome name. What would you like to order?\")\n",
    "            break\n",
    "        else:\n",
    "            print(\"Invalid phone number. Please try again.\")\n",
    "\n",
    "    while True:\n",
    "        item = input().lower()\n",
    "        \n",
    "        if any(word in item for word in non_vegan):\n",
    "            print(f\"Sorry, {name} but you need to do some more work evolving.\")\n",
    "            rejected_users.add(name)  # Add the name to rejected users\n",
    "            return\n",
    "        \n",
    "        if item in [\"pizza\", \"salad\"]:\n",
    "            size = input(\"What size? (small/medium/large): \").lower()\n",
    "            if item == \"pizza\":\n",
    "                if size in menu[\"pizza\"]:\n",
    "                    cost = menu[\"pizza\"][size]\n",
    "                    order.append(f\"{size} pizza\")\n",
    "                    total_cost += cost\n",
    "                    print(f\"{size.capitalize()} pizza added. Base cost: ${cost:.2f}\")\n",
    "                    \n",
    "                    while True:\n",
    "                        topping = input(\"Any toppings? (Enter topping or 'done'): \").lower()\n",
    "                        if topping == \"done\":\n",
    "                            break\n",
    "                        if any(word in topping for word in non_vegan):\n",
    "                            print(f\"Sorry, {name} but you need to do some more work evolving.\")\n",
    "                            rejected_users.add(name)  # Add the name to rejected users\n",
    "                            return\n",
    "                        if topping.capitalize() in menu[\"toppings\"]:\n",
    "                            order.append(topping.capitalize())\n",
    "                            total_cost += 0.50\n",
    "                            print(f\"Added {topping.capitalize()}. Cost: $0.50\")\n",
    "                        else:\n",
    "                            print(\"Sorry, we don't have that topping.\")\n",
    "                else:\n",
    "                    print(\"Invalid size. Please choose small, medium, or large.\")\n",
    "            elif item == \"salad\":\n",
    "                if size in [\"small\", \"large\"]:\n",
    "                    cost = menu[\"salads\"][size]\n",
    "                    order.append(f\"{size} salad\")\n",
    "                    total_cost += cost\n",
    "                    print(f\"{size.capitalize()} salad added. Cost: ${cost:.2f}\")\n",
    "                else:\n",
    "                    print(\"Invalid size. Please choose small or large.\")\n",
    "        else:\n",
    "            print(f\"Sorry, {name} we don't have that.\")\n",
    "            print(\"How about a super awesome pizza? Take a look at our menu, you'll find it's delicious.\")\n",
    "        \n",
    "        more = input(\"Anything else? (yes/no): \").lower()\n",
    "        if more != \"yes\":\n",
    "            break\n",
    "\n",
    "    print(\"\\nYour order summary:\")\n",
    "    for item in order:\n",
    "        print(f\"- {item}\")\n",
    "    print(f\"\\nTotal cost: ${total_cost:.2f}\")\n",
    "\n",
    "# Run the order function in a loop to simulate multiple calls\n",
    "while True:\n",
    "    take_order()\n",
    "    again = input(\"Simulate another call? (yes/no): \").lower()\n",
    "    if again != \"yes\":\n",
    "        break\n",
    "\n",
    "print(\"Thank you for using Elm City Pizza ordering system!\")"
   ]
  },
  {
   "cell_type": "code",
   "execution_count": 114,
   "id": "15434580-4f39-4488-a243-463fc8b9435e",
   "metadata": {},
   "outputs": [
    {
     "name": "stdin",
     "output_type": "stream",
     "text": [
      "Please enter your phone number:  203-555-5555\n"
     ]
    },
    {
     "name": "stdout",
     "output_type": "stream",
     "text": [
      "Elm City Pizza, where we have never had a case of food poisoning that can be proved. My name is Hal, what's your name?\n"
     ]
    },
    {
     "name": "stdin",
     "output_type": "stream",
     "text": [
      " Ants\n"
     ]
    },
    {
     "name": "stdout",
     "output_type": "stream",
     "text": [
      "Wow Ants, what an awesome name. What would you like to order?\n"
     ]
    },
    {
     "name": "stdin",
     "output_type": "stream",
     "text": [
      " pizza\n",
      "What size? (small/medium/large):  small\n"
     ]
    },
    {
     "name": "stdout",
     "output_type": "stream",
     "text": [
      "Small pizza added. Base cost: $6.95\n"
     ]
    },
    {
     "name": "stdin",
     "output_type": "stream",
     "text": [
      "Any toppings? (Enter topping or 'done'):  done\n",
      "Anything else? (yes/no):  no\n"
     ]
    },
    {
     "name": "stdout",
     "output_type": "stream",
     "text": [
      "\n",
      "Your order summary:\n",
      "- small pizza\n",
      "\n",
      "Total cost: $6.95\n"
     ]
    }
   ],
   "source": [
    "take_order()"
   ]
  },
  {
   "cell_type": "code",
   "execution_count": 115,
   "id": "a18bfd15-dd88-47f3-acc2-e0902b1efc86",
   "metadata": {},
   "outputs": [
    {
     "name": "stdin",
     "output_type": "stream",
     "text": [
      "Please enter your phone number:  203-555-5555\n"
     ]
    },
    {
     "name": "stdout",
     "output_type": "stream",
     "text": [
      "Elm City Pizza, where we have never had a case of food poisoning that can be proved. My name is Hal, what's your name?\n"
     ]
    },
    {
     "name": "stdin",
     "output_type": "stream",
     "text": [
      " Antariksh\n"
     ]
    },
    {
     "name": "stdout",
     "output_type": "stream",
     "text": [
      "Wow Antariksh, what an awesome name. What would you like to order?\n"
     ]
    },
    {
     "name": "stdin",
     "output_type": "stream",
     "text": [
      " pizza\n",
      "What size? (small/medium/large):  medium\n"
     ]
    },
    {
     "name": "stdout",
     "output_type": "stream",
     "text": [
      "Medium pizza added. Base cost: $8.95\n"
     ]
    },
    {
     "name": "stdin",
     "output_type": "stream",
     "text": [
      "Any toppings? (Enter topping or 'done'):  meat\n"
     ]
    },
    {
     "name": "stdout",
     "output_type": "stream",
     "text": [
      "Sorry, Antariksh but you need to do some more work evolving.\n"
     ]
    }
   ],
   "source": [
    "take_order()"
   ]
  },
  {
   "cell_type": "code",
   "execution_count": 116,
   "id": "279b7420-cdc1-46a0-bf1a-35bcbf82d706",
   "metadata": {},
   "outputs": [
    {
     "name": "stdin",
     "output_type": "stream",
     "text": [
      "Please enter your phone number:  203-555-5555\n"
     ]
    },
    {
     "name": "stdout",
     "output_type": "stream",
     "text": [
      "Elm City Pizza, where we have never had a case of food poisoning that can be proved. My name is Hal, what's your name?\n"
     ]
    },
    {
     "name": "stdin",
     "output_type": "stream",
     "text": [
      " Antariksh\n"
     ]
    },
    {
     "name": "stdout",
     "output_type": "stream",
     "text": [
      "Wow Antariksh, what an awesome name. What would you like to order?\n"
     ]
    },
    {
     "name": "stdin",
     "output_type": "stream",
     "text": [
      " pizza\n",
      "What size? (small/medium/large):  small\n"
     ]
    },
    {
     "name": "stdout",
     "output_type": "stream",
     "text": [
      "Small pizza added. Base cost: $6.95\n"
     ]
    },
    {
     "name": "stdin",
     "output_type": "stream",
     "text": [
      "Any toppings? (Enter topping or 'done'):  meat\n"
     ]
    },
    {
     "name": "stdout",
     "output_type": "stream",
     "text": [
      "Sorry, Antariksh but you need to do some more work evolving.\n"
     ]
    }
   ],
   "source": [
    "take_order()"
   ]
  },
  {
   "cell_type": "code",
   "execution_count": 121,
   "id": "d8191c61-53b6-44c4-80ef-472ae18e3370",
   "metadata": {},
   "outputs": [
    {
     "name": "stdin",
     "output_type": "stream",
     "text": [
      "Please enter your phone number:  203-555-5555\n"
     ]
    },
    {
     "name": "stdout",
     "output_type": "stream",
     "text": [
      "Elm City Pizza, where we have never had a case of food poisoning that can be proved. My name is Hal, what's your name?\n"
     ]
    },
    {
     "name": "stdin",
     "output_type": "stream",
     "text": [
      " Ant\n"
     ]
    },
    {
     "name": "stdout",
     "output_type": "stream",
     "text": [
      "Wow Ant, what an awesome name. What would you like to order?\n"
     ]
    },
    {
     "name": "stdin",
     "output_type": "stream",
     "text": [
      " pizza\n",
      "What size? (small/medium/large):  small\n"
     ]
    },
    {
     "name": "stdout",
     "output_type": "stream",
     "text": [
      "Small pizza added. Base cost: $6.95\n"
     ]
    },
    {
     "name": "stdin",
     "output_type": "stream",
     "text": [
      "Any toppings? (Enter topping or 'done'):  shitake\n"
     ]
    },
    {
     "name": "stdout",
     "output_type": "stream",
     "text": [
      "Added Shitake. Cost: $0.50\n"
     ]
    },
    {
     "name": "stdin",
     "output_type": "stream",
     "text": [
      "Any toppings? (Enter topping or 'done'):  done\n",
      "Anything else? (yes/no):  no\n"
     ]
    },
    {
     "name": "stdout",
     "output_type": "stream",
     "text": [
      "\n",
      "Your order summary:\n",
      "- small pizza\n",
      "- Shitake\n",
      "\n",
      "Total cost: $7.45\n"
     ]
    }
   ],
   "source": [
    "import json\n",
    "\n",
    "def take_order():\n",
    "    menu = {\n",
    "        \"pizza\": {\n",
    "            \"small\": 6.95,\n",
    "            \"medium\": 8.95,\n",
    "            \"large\": 10.90\n",
    "        },\n",
    "        \"toppings\": [\n",
    "            \"Shitake\", \"Jackfruit\", \"Sweet Potato\", \"Hummus\", \"Chickpeas\", \n",
    "            \"Lentils\", \"Tofu\", \"Edamame\", \"Black Bean\", \"Red Cabbage\", \n",
    "            \"Cucumber\", \"Tomato\", \"Jicama\", \"Fried Green Tomatoes\", \"Sun Dried Tomatoes\"\n",
    "        ],\n",
    "        \"salads\": {\n",
    "            \"small\": 4.95,\n",
    "            \"large\": 6.95\n",
    "        }\n",
    "    }\n",
    "    \n",
    "    non_vegan = [\"meat\", \"cheese\", \"mozzarella\", \"parmesan\"]\n",
    "    order = []\n",
    "    total_cost = 0\n",
    "    \n",
    "    # Load rejected users from file\n",
    "    try:\n",
    "        with open('rejected_users.json', 'r') as f:\n",
    "            rejected_users = set(json.load(f))\n",
    "    except FileNotFoundError:\n",
    "        rejected_users = set()\n",
    "\n",
    "    while True:\n",
    "        phone = input(\"Please enter your phone number: \")\n",
    "        if phone == \"203-555-5555\":\n",
    "            print(\"Elm City Pizza, where we have never had a case of food poisoning that can be proved. My name is Hal, what's your name?\")\n",
    "            name = input()\n",
    "            if name in rejected_users:\n",
    "                print(f\"Sorry {name}, but that's too quick to evolve. Call us back when you have.\")\n",
    "                return\n",
    "            print(f\"Wow {name}, what an awesome name. What would you like to order?\")\n",
    "            break\n",
    "        else:\n",
    "            print(\"Invalid phone number. Please try again.\")\n",
    "\n",
    "    while True:\n",
    "        item = input().lower()\n",
    "        \n",
    "        if any(word in item for word in non_vegan):\n",
    "            print(f\"Sorry, {name} but you need to do some more work evolving.\")\n",
    "            rejected_users.add(name)\n",
    "            # Save updated rejected users to file\n",
    "            with open('rejected_users.json', 'w') as f:\n",
    "                json.dump(list(rejected_users), f)\n",
    "            return\n",
    "        \n",
    "        if item in [\"pizza\", \"salad\"]:\n",
    "            size = input(\"What size? (small/medium/large): \").lower()\n",
    "            if item == \"pizza\":\n",
    "                if size in menu[\"pizza\"]:\n",
    "                    cost = menu[\"pizza\"][size]\n",
    "                    order.append(f\"{size} pizza\")\n",
    "                    total_cost += cost\n",
    "                    print(f\"{size.capitalize()} pizza added. Base cost: ${cost:.2f}\")\n",
    "                    \n",
    "                    while True:\n",
    "                        topping = input(\"Any toppings? (Enter topping or 'done'): \").lower()\n",
    "                        if topping == \"done\":\n",
    "                            break\n",
    "                        if any(word in topping for word in non_vegan):\n",
    "                            print(f\"Sorry, {name} but you need to do some more work evolving.\")\n",
    "                            rejected_users.add(name)\n",
    "                            # Save updated rejected users to file\n",
    "                            with open('rejected_users.json', 'w') as f:\n",
    "                                json.dump(list(rejected_users), f)\n",
    "                            return\n",
    "                        if topping.capitalize() in menu[\"toppings\"]:\n",
    "                            order.append(topping.capitalize())\n",
    "                            total_cost += 0.50\n",
    "                            print(f\"Added {topping.capitalize()}. Cost: $0.50\")\n",
    "                        else:\n",
    "                            print(\"Sorry, we don't have that topping.\")\n",
    "                else:\n",
    "                    print(\"Invalid size. Please choose small, medium, or large.\")\n",
    "            elif item == \"salad\":\n",
    "                if size in [\"small\", \"large\"]:\n",
    "                    cost = menu[\"salads\"][size]\n",
    "                    order.append(f\"{size} salad\")\n",
    "                    total_cost += cost\n",
    "                    print(f\"{size.capitalize()} salad added. Cost: ${cost:.2f}\")\n",
    "                else:\n",
    "                    print(\"Invalid size. Please choose small or large.\")\n",
    "        elif item == \"no that's it\":\n",
    "            break\n",
    "        else:\n",
    "            print(f\"Sorry, {name} we don't have that.\")\n",
    "            print(\"How about a super awesome pizza? Take a look at our menu, you'll find it's delicious.\")\n",
    "        \n",
    "        more = input(\"Anything else? (yes/no): \").lower()\n",
    "        if more != \"yes\":\n",
    "            break\n",
    "\n",
    "    print(\"\\nYour order summary:\")\n",
    "    for item in order:\n",
    "        print(f\"- {item}\")\n",
    "    print(f\"\\nTotal cost: ${total_cost:.2f}\")\n",
    "\n",
    "if __name__ == \"__main__\":\n",
    "    take_order()"
   ]
  },
  {
   "cell_type": "code",
   "execution_count": 122,
   "id": "2afe228a-c14a-458a-8ca2-501a44043ec5",
   "metadata": {},
   "outputs": [
    {
     "name": "stdin",
     "output_type": "stream",
     "text": [
      "Please enter your phone number:  203-555-5555\n"
     ]
    },
    {
     "name": "stdout",
     "output_type": "stream",
     "text": [
      "Elm City Pizza, where we have never had a case of food poisoning that can be proved. My name is Hal, what's your name?\n"
     ]
    },
    {
     "name": "stdin",
     "output_type": "stream",
     "text": [
      " Antariksh\n"
     ]
    },
    {
     "name": "stdout",
     "output_type": "stream",
     "text": [
      "Wow Antariksh, what an awesome name. What would you like to order?\n"
     ]
    },
    {
     "name": "stdin",
     "output_type": "stream",
     "text": [
      " pizza\n",
      "What size? (small/medium/large):  large\n"
     ]
    },
    {
     "name": "stdout",
     "output_type": "stream",
     "text": [
      "Large pizza added. Base cost: $10.90\n"
     ]
    },
    {
     "name": "stdin",
     "output_type": "stream",
     "text": [
      "Any toppings? (Enter topping or 'done'):  meat\n"
     ]
    },
    {
     "name": "stdout",
     "output_type": "stream",
     "text": [
      "Sorry, Antariksh but you need to do some more work evolving.\n"
     ]
    }
   ],
   "source": [
    "take_order()"
   ]
  },
  {
   "cell_type": "code",
   "execution_count": 123,
   "id": "07f69230-ac22-4a40-a6a3-1152bf9bdf4f",
   "metadata": {},
   "outputs": [
    {
     "name": "stdin",
     "output_type": "stream",
     "text": [
      "Please enter your phone number:  203-555-5555\n"
     ]
    },
    {
     "name": "stdout",
     "output_type": "stream",
     "text": [
      "Elm City Pizza, where we have never had a case of food poisoning that can be proved. My name is Hal, what's your name?\n"
     ]
    },
    {
     "name": "stdin",
     "output_type": "stream",
     "text": [
      " Antariksh\n"
     ]
    },
    {
     "name": "stdout",
     "output_type": "stream",
     "text": [
      "Sorry Antariksh, but that's too quick to evolve. Call us back when you have.\n"
     ]
    }
   ],
   "source": [
    "take_order()"
   ]
  },
  {
   "cell_type": "code",
   "execution_count": null,
   "id": "e0458d81-a021-4c22-b676-b30f5be03c29",
   "metadata": {},
   "outputs": [],
   "source": []
  }
 ],
 "metadata": {
  "kernelspec": {
   "display_name": "Python 3 (ipykernel)",
   "language": "python",
   "name": "python3"
  },
  "language_info": {
   "codemirror_mode": {
    "name": "ipython",
    "version": 3
   },
   "file_extension": ".py",
   "mimetype": "text/x-python",
   "name": "python",
   "nbconvert_exporter": "python",
   "pygments_lexer": "ipython3",
   "version": "3.12.4"
  }
 },
 "nbformat": 4,
 "nbformat_minor": 5
}
